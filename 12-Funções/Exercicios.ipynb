{
 "cells": [
  {
   "cell_type": "markdown",
   "id": "e18376ba-7875-4414-ab0d-d1900316a5d9",
   "metadata": {
    "tags": []
   },
   "source": [
    "# <font color='OrangeRed'><center>Exercícios - Funções</center></font>"
   ]
  },
  {
   "cell_type": "markdown",
   "id": "095576dd-6fcd-48ae-90ef-2c2dd49aa35d",
   "metadata": {},
   "source": [
    "### Exercício 01\n",
    "\n",
    "Crie uma função que receba três números como parâmetros, e que retorne a soma desses três números."
   ]
  },
  {
   "cell_type": "code",
   "execution_count": 7,
   "id": "9875cdf1-f7a6-4d0e-8497-0e1a112a93af",
   "metadata": {},
   "outputs": [
    {
     "data": {
      "text/plain": [
       "'Resultado da 6'"
      ]
     },
     "execution_count": 7,
     "metadata": {},
     "output_type": "execute_result"
    }
   ],
   "source": [
    "n1 = int (input(\"Digite o primeiro número:\"))\n",
    "n2 = int (input(\"Digite o segundo número:\"))\n",
    "n3 = int (input(\"Digite o terceiro número:\"))\n",
    "\n",
    "\n",
    "\n",
    "def soma (n1,n2,n3):\n",
    "    soma = (n1 + n2 + n3)\n",
    "    return f'Resultado da soma é {soma}'\n",
    "\n",
    "soma(n1,n2,n3)\n",
    "\n"
   ]
  },
  {
   "cell_type": "markdown",
   "id": "b39845b1-ff90-435c-91de-a15fc8a82fb7",
   "metadata": {},
   "source": [
    "---"
   ]
  },
  {
   "cell_type": "markdown",
   "id": "00f50df4-0654-4c42-8f0e-9898c8c2cb5f",
   "metadata": {},
   "source": [
    "### Exercício 02\n",
    "\n",
    "Crie uma função que receba um número como parâmetro, e com uma condicional if/else crie a condição abaixo:\n",
    "\n",
    "* Se o número informado for maior que 0, então retorne **'Positivo'** \n",
    "* Se o número informado for menor que 0, então retorne **'Negativo'**  \n",
    "* Se o número informado for igual a zero, então retorne **'Neutro'**  "
   ]
  },
  {
   "cell_type": "code",
   "execution_count": 17,
   "id": "74f75e45-5192-409b-9018-1758f23a2993",
   "metadata": {},
   "outputs": [
    {
     "name": "stdout",
     "output_type": "stream",
     "text": [
      "O número 0 é Neutro\n"
     ]
    }
   ],
   "source": [
    "n1 = int (input(\"Digite o primeiro número:\"))\n",
    "\n",
    "def comando(n1):\n",
    "    if  n1 > 0:\n",
    "        print (f\" Número {n1} é Positivo.\")\n",
    "    elif n1 < 0:\n",
    "        print (f\" Número {n2} é Negativo.\")\n",
    "    else:\n",
    "       print(f'O número {n3} é Neutro')\n",
    "\n",
    "comando(n1)\n"
   ]
  },
  {
   "cell_type": "markdown",
   "id": "14b1f0c5-e100-480c-8187-340f82a9217c",
   "metadata": {},
   "source": [
    "---"
   ]
  },
  {
   "cell_type": "markdown",
   "id": "a046c905-a350-4636-867a-7f7d74541c25",
   "metadata": {},
   "source": [
    "### Exercício 03\n",
    "\n",
    "Crie uma função que receba um número como parâmetro, e que retorne o dobro do número."
   ]
  },
  {
   "cell_type": "code",
   "execution_count": 20,
   "id": "03953933-cf27-436e-8690-84696e05a18f",
   "metadata": {},
   "outputs": [
    {
     "data": {
      "text/plain": [
       "8"
      ]
     },
     "execution_count": 20,
     "metadata": {},
     "output_type": "execute_result"
    }
   ],
   "source": [
    "var = int(input(\"Digite um número:\"))\n",
    "\n",
    "def n (var):\n",
    "    return var * 2\n",
    "\n",
    "\n",
    "n(var)\n",
    "\n"
   ]
  },
  {
   "cell_type": "markdown",
   "id": "b1c7278b-775b-4ea8-9b37-e985ea9a048b",
   "metadata": {},
   "source": [
    "---"
   ]
  },
  {
   "cell_type": "markdown",
   "id": "76b9c331-23fa-4597-b159-a35ab06acfad",
   "metadata": {},
   "source": [
    "### Exercício 04\n",
    "\n",
    "No Brasil, 15 Kg equivale a 1 arroba. Dito isto, faça uma função que receba um valor em Kgs e retorne o valor convertido em arrobas:\n",
    "\n",
    "**Fórmula:**  \n",
    "_@ = Kg / 15_"
   ]
  },
  {
   "cell_type": "code",
   "execution_count": 26,
   "id": "7f972e71-9e49-43cb-b72b-8ccbf8a9600d",
   "metadata": {
    "tags": []
   },
   "outputs": [
    {
     "data": {
      "text/plain": [
       "' O valor convertido é 0.13'"
      ]
     },
     "execution_count": 26,
     "metadata": {},
     "output_type": "execute_result"
    }
   ],
   "source": [
    "\n",
    "var = int (input(\"digite um valor em Kgs\"))\n",
    "\n",
    "calc = var / 15\n",
    "\n",
    "def x (var):\n",
    "    return f' O valor convertido é {calc:.2f}'\n",
    "\n",
    "x(calc)\n"
   ]
  },
  {
   "cell_type": "markdown",
   "id": "5cbce694-d8e7-4800-a4e0-28b74e9c3d68",
   "metadata": {},
   "source": [
    "---"
   ]
  },
  {
   "cell_type": "markdown",
   "id": "face8095-6de9-4a8c-9786-e92ac0392fb3",
   "metadata": {},
   "source": [
    "### Exercício 05\n",
    "\n",
    "Crie uma função que receba um salário como parâmetro, e que retorne o valor do salário mais um reajuste de 10%.\n",
    "\n",
    "**Dica:**  \n",
    "_10% é o equivalente a 0.1_"
   ]
  },
  {
   "cell_type": "code",
   "execution_count": 27,
   "id": "5393ada0-98a2-4404-af43-634e0c0202ec",
   "metadata": {},
   "outputs": [
    {
     "data": {
      "text/plain": [
       "'Seu salário 2 foi reajustado em 2.2 '"
      ]
     },
     "execution_count": 27,
     "metadata": {},
     "output_type": "execute_result"
    }
   ],
   "source": [
    "salario = int(input(\"Digite seu salário:\"))\n",
    "\n",
    "calc = salario * 1.1\n",
    "\n",
    "def aumento(salario):\n",
    "\n",
    "    return f'Seu salário {salario} foi reajustado em {calc} '\n",
    "\n",
    "aumento(salario)\n",
    "\n"
   ]
  },
  {
   "cell_type": "markdown",
   "id": "bf3cada8-d138-446e-adbc-fead28fea0b1",
   "metadata": {},
   "source": [
    "---"
   ]
  },
  {
   "cell_type": "markdown",
   "id": "68bba43a-b5b5-41a1-a048-ef6f705bbc3b",
   "metadata": {},
   "source": [
    "### Exercício 06\n",
    "\n",
    "Crie uma função que receba um texto qualquer, e que retorne todas as letras do texto em maiúsculo, exemplo:\n",
    "\n",
    "**Entrada:**  \n",
    "_python_\n",
    "\n",
    "**Saída:**  \n",
    "_PYTHON_"
   ]
  },
  {
   "cell_type": "code",
   "execution_count": 3,
   "id": "59ba1653-9af0-4d24-9240-4066cb8d83de",
   "metadata": {},
   "outputs": [
    {
     "data": {
      "text/plain": [
       "'AYUMI'"
      ]
     },
     "execution_count": 3,
     "metadata": {},
     "output_type": "execute_result"
    }
   ],
   "source": [
    "\n",
    "letra = input(\"Digite uma palavra\")\n",
    "\n",
    "def palavra (letra):\n",
    "    letra = letra.upper()\n",
    "    return letra\n",
    "\n",
    "palavra(letra)\n"
   ]
  },
  {
   "cell_type": "markdown",
   "id": "e2a09cd5-c83f-43fd-a96a-84266e74b21c",
   "metadata": {},
   "source": [
    "---"
   ]
  },
  {
   "cell_type": "markdown",
   "id": "bef3877c-7140-498c-8761-7a2c94cfd0bb",
   "metadata": {},
   "source": [
    "### Exercício 07\n",
    "\n",
    "Crie uma função que receba quatro notas como parâmetro, em seguida some as quatro notas e retorne a média aritmética, ou seja, divida a soma das quatro notas por quatro."
   ]
  },
  {
   "cell_type": "code",
   "execution_count": null,
   "id": "c14da5dd-463a-4a7e-b92d-76c8b27f4155",
   "metadata": {},
   "outputs": [],
   "source": [
    "def media_final(n1,n2,n3,n4):\n",
    "    media = (n1+n2+n3+n4) / 4\n",
    "    return media\n",
    "\n",
    "Ayumi = media_final(10,9,8.5,10)\n",
    "Maria= media_final(10,9,8.5,10)\n",
    "Gloria = media_final(10,9,8.5,10)\n",
    "Muraki = media_final(10,9,8.5,10)\n",
    "\n",
    "print(f''' Média Final:\n",
    "      \n",
    "Ayumi:{Ayumi:.2f}  \n",
    "Maria:{Maria:.2f}   \n",
    "Gloria:{Gloria:.2f}   \n",
    "Muraki:{Muraki:.2f}    \n",
    "      ''')\n",
    "\n"
   ]
  },
  {
   "cell_type": "markdown",
   "id": "98275870-4cad-437f-88dd-54890b16e1d4",
   "metadata": {},
   "source": [
    "---"
   ]
  },
  {
   "cell_type": "markdown",
   "id": "2df310e8-923a-4eb5-88dc-e07055f60ce6",
   "metadata": {},
   "source": [
    "### Exercício 08\n",
    "\n",
    "Crie uma função que receba dois parâmetros, o 1º sendo um nome e o 2º sendo um sobrenome, e que retorne o nome completo da pessoa."
   ]
  },
  {
   "cell_type": "code",
   "execution_count": 10,
   "id": "da74073a-01c4-473f-bbc4-76e6f267b6b5",
   "metadata": {},
   "outputs": [
    {
     "data": {
      "text/plain": [
       "'Seu nome completo é oi oi'"
      ]
     },
     "execution_count": 10,
     "metadata": {},
     "output_type": "execute_result"
    }
   ],
   "source": [
    "nome = input(\"Digite seu primeiro nome:\")\n",
    "sobrenome = input(\"Digite seu sobrenome:\")\n",
    "\n",
    "def nomes (nome, sobrenome):\n",
    "     return f'Seu nome completo é {nome} {sobrenome}'\n",
    "\n",
    "\n",
    "nomes(nome,sobrenome)"
   ]
  },
  {
   "cell_type": "markdown",
   "id": "21dad33b-976a-48ae-9bce-f4ab64274d96",
   "metadata": {},
   "source": [
    "---"
   ]
  },
  {
   "cell_type": "markdown",
   "id": "c0cedcce-6bfa-49a6-a814-ea6c7baff647",
   "metadata": {},
   "source": [
    "### Exercício 09\n",
    "\n",
    "Crie uma função que receba um número como parâmetro, e em seguida crie uma condicional if/else que retorne se o número informado é divisível por 3 ou não."
   ]
  },
  {
   "cell_type": "code",
   "execution_count": null,
   "id": "4a6b2a37-f55d-4ef6-a6a2-a678d0310036",
   "metadata": {},
   "outputs": [],
   "source": [
    "\n"
   ]
  },
  {
   "cell_type": "markdown",
   "id": "9bf72d16-1c6f-4023-8961-f69996156532",
   "metadata": {},
   "source": [
    "---"
   ]
  },
  {
   "cell_type": "markdown",
   "id": "434120b5-d233-405a-b974-16ffcd7cb0fa",
   "metadata": {},
   "source": [
    "### Exercício 10\n",
    "\n",
    "Crie uma função que receba três valores como parâmetro, e que retorne uma lista com esses 3 valores, exemplo:\n",
    "\n",
    "**Entrada:**  \n",
    "_a, b, c_\n",
    "\n",
    "**Saída:**  \n",
    "_[a, b, c]_"
   ]
  },
  {
   "cell_type": "code",
   "execution_count": null,
   "id": "9cf9bbcc-3715-46d0-b1ef-7877be199558",
   "metadata": {},
   "outputs": [],
   "source": [
    "def criar_lista(a,b,c):\n",
    "\n",
    "    lista_lista\n",
    "\n"
   ]
  },
  {
   "cell_type": "markdown",
   "id": "8c7a2a04-a9d6-44b5-a0c2-f9b5dedabf56",
   "metadata": {},
   "source": [
    "---"
   ]
  },
  {
   "cell_type": "markdown",
   "id": "d210d36c-abd9-49bd-ae00-1b87ceb5131d",
   "metadata": {},
   "source": [
    "### Exercício 11\n",
    "\n",
    "Crie uma função que receba dois números como argumentos, sendo:\n",
    "\n",
    "1. O número da **Base**\n",
    "2. O número do **Expoente**\n",
    "\n",
    "\n",
    "Por fim, retorne a **Potência**\n",
    "\n",
    "<img src='https://matematicaproeja.files.wordpress.com/2018/09/termos-potencia.png' style='width: 250px'>"
   ]
  },
  {
   "cell_type": "code",
   "execution_count": null,
   "id": "1ce7db21-9972-40da-a4f3-101faa108f9d",
   "metadata": {},
   "outputs": [],
   "source": [
    "\n",
    "\n"
   ]
  },
  {
   "cell_type": "markdown",
   "id": "996962ec-928c-4151-8580-52b8237614dd",
   "metadata": {},
   "source": [
    "---"
   ]
  },
  {
   "cell_type": "markdown",
   "id": "ad7d01c5-2bb2-4ea4-bf36-478185eb0b3b",
   "metadata": {},
   "source": [
    "### Exercício 12\n",
    "\n",
    "Crie uma função que receba dois parâmetros, sendo altura e peso, e em seguida retorne o calculo o IMC (Índice de Massa Corpória):\n",
    "\n",
    "**Formúla:**  \n",
    "_IMC = Peso / (Altura*Altura)_"
   ]
  },
  {
   "cell_type": "code",
   "execution_count": null,
   "id": "bdde9d04-4ec7-4066-8a2f-9bdee7006d6c",
   "metadata": {
    "tags": []
   },
   "outputs": [],
   "source": [
    "\n",
    "\n"
   ]
  },
  {
   "cell_type": "markdown",
   "id": "71eb643e-a3a7-4dd6-9e4c-b9ddfe65c541",
   "metadata": {},
   "source": [
    "---"
   ]
  },
  {
   "cell_type": "markdown",
   "id": "d85c07d7-eeb4-4684-aaa0-64946902f09b",
   "metadata": {},
   "source": [
    "### Exercício 13\n",
    "\n",
    "Crie uma função que receba um número inteiro como parâmetro e em seguida retorne o texto **'Python '** pela quantidade de vezes informada.\n",
    "\n",
    "**Entrada:**  \n",
    "3\n",
    "\n",
    "**Saída:**  \n",
    "'Python Python Python '"
   ]
  },
  {
   "cell_type": "code",
   "execution_count": null,
   "id": "ca6ae957-ce75-4a9d-ae46-b4aeb1c99055",
   "metadata": {
    "tags": []
   },
   "outputs": [],
   "source": [
    "\n",
    "\n"
   ]
  },
  {
   "cell_type": "markdown",
   "id": "7a8fa322-8f36-484e-bcb1-1edaf13bb29f",
   "metadata": {},
   "source": [
    "---"
   ]
  }
 ],
 "metadata": {
  "kernelspec": {
   "display_name": "Python 3",
   "language": "python",
   "name": "python3"
  },
  "language_info": {
   "codemirror_mode": {
    "name": "ipython",
    "version": 3
   },
   "file_extension": ".py",
   "mimetype": "text/x-python",
   "name": "python",
   "nbconvert_exporter": "python",
   "pygments_lexer": "ipython3",
   "version": "3.12.6"
  }
 },
 "nbformat": 4,
 "nbformat_minor": 5
}
