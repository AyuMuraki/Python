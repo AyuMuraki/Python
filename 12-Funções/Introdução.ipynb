{
 "cells": [
  {
   "cell_type": "code",
   "execution_count": 4,
   "metadata": {},
   "outputs": [
    {
     "name": "stdout",
     "output_type": "stream",
     "text": [
      "pedro: 9.375\n"
     ]
    }
   ],
   "source": [
    "aluno1 = (10+9+8.5+10)/4\n",
    "\n",
    "print(f\"pedro: {aluno1}\")"
   ]
  },
  {
   "cell_type": "code",
   "execution_count": 6,
   "metadata": {},
   "outputs": [
    {
     "name": "stdout",
     "output_type": "stream",
     "text": [
      "Bloco de código\n"
     ]
    }
   ],
   "source": [
    "# Criando um função \n",
    "# def só cria a lógica , não executa a função\n",
    "\n",
    "def funcao():\n",
    "    print(\"Bloco de código\")\n",
    "\n",
    "#Executando a função \n",
    "funcao()"
   ]
  },
  {
   "cell_type": "code",
   "execution_count": 12,
   "metadata": {},
   "outputs": [
    {
     "data": {
      "text/plain": [
       "15"
      ]
     },
     "execution_count": 12,
     "metadata": {},
     "output_type": "execute_result"
    }
   ],
   "source": [
    "#\n",
    "\n",
    "def soma():\n",
    "\n",
    "    n1 = 8 ###  ESCOPO DA FUNÇÃO DE FORA PRA DENTRO N DA PRA ACESSAR \n",
    "    n2 = 7\n",
    "\n",
    "    soma = n1 + n2\n",
    "    return soma\n",
    "\n",
    "    #Executando a função  ### ESCOPO GLOBAL \n",
    "soma()"
   ]
  },
  {
   "cell_type": "code",
   "execution_count": 13,
   "metadata": {},
   "outputs": [
    {
     "data": {
      "text/plain": [
       "'seja bem vindo Ayumi'"
      ]
     },
     "execution_count": 13,
     "metadata": {},
     "output_type": "execute_result"
    }
   ],
   "source": [
    "def saudacao():\n",
    "    nome = 'Ayumi'\n",
    "    return f'seja bem vindo {nome}'\n",
    "\n",
    "saudacao()"
   ]
  },
  {
   "cell_type": "code",
   "execution_count": 15,
   "metadata": {},
   "outputs": [
    {
     "data": {
      "text/plain": [
       "'Sua média foi 9.0'"
      ]
     },
     "execution_count": 15,
     "metadata": {},
     "output_type": "execute_result"
    }
   ],
   "source": [
    "# Crie uma função que retorne a média de dois números\n",
    "\n",
    "def media():\n",
    "    n1 = 7\n",
    "    n2 = 8\n",
    "\n",
    "    soma = n1 + n2 / 4\n",
    "    return f'Sua média foi {soma}'\n",
    "\n",
    "media()\n"
   ]
  },
  {
   "cell_type": "code",
   "execution_count": 17,
   "metadata": {},
   "outputs": [
    {
     "data": {
      "text/plain": [
       "2.0"
      ]
     },
     "execution_count": 17,
     "metadata": {},
     "output_type": "execute_result"
    }
   ],
   "source": [
    "# Parâmetros\n",
    "\n",
    "n1 =int (input(\"Digite a 1 nota:\"))\n",
    "n2 = int  (input(\"Digite a 2 nota:\"))\n",
    "\n",
    "\n",
    "#Definição\n",
    "def media(n1,n2):\n",
    "\n",
    "    soma = n1 + n2\n",
    "    media = soma / 2\n",
    "    return media \n",
    "\n",
    "media(n1,n2)"
   ]
  },
  {
   "cell_type": "code",
   "execution_count": 18,
   "metadata": {},
   "outputs": [
    {
     "name": "stdout",
     "output_type": "stream",
     "text": [
      "Seja bem-vindo Ayumi\n"
     ]
    }
   ],
   "source": [
    "# saudação como parâmetro\n",
    "\n",
    "nome = input(\"Digite seu nome:\")\n",
    "\n",
    "def saudacao (nome):\n",
    "    return f'Seja bem-vindo {nome}'\n",
    "print(saudacao(nome))"
   ]
  },
  {
   "cell_type": "code",
   "execution_count": null,
   "metadata": {},
   "outputs": [],
   "source": [
    "# Os parâmetros não precisam ter o mesmo nome das variáveis\n",
    "\n",
    "nome_var = input(\"Digite seu nome:\")\n",
    "\n",
    "def saudacao(nome_param):\n",
    "    return f'Seja bem-vindo {nome_param}'\n",
    "\n",
    "\n",
    "print(saudacao(nome_var))"
   ]
  },
  {
   "cell_type": "code",
   "execution_count": 28,
   "metadata": {},
   "outputs": [
    {
     "data": {
      "text/plain": [
       "'Resultado é 3'"
      ]
     },
     "execution_count": 28,
     "metadata": {},
     "output_type": "execute_result"
    }
   ],
   "source": [
    "# Crie uma função que calcule a soma de 3 números.\n",
    "#Receba 3 números do usuários.\n",
    "#Passe os 3 números como parâmetros.\n",
    "#Retorne a soma dos 3 números.\n",
    "\n",
    "\n",
    "\n",
    "n1 = int(input(\"Digite um número:\"))\n",
    "n2 = int(input(\"Digite um número:\"))\n",
    "n3 = int(input(\"Digite um número:\"))\n",
    "\n",
    "def soma(n1,n2,n3):\n",
    "    total = (n1  + n2 + n3)\n",
    "    return f'Resultado é {total}'\n",
    "\n",
    "\n",
    "\n",
    "#passa a função\n",
    "soma(n1,n2,n3)\n",
    "\n"
   ]
  },
  {
   "cell_type": "code",
   "execution_count": 31,
   "metadata": {},
   "outputs": [
    {
     "name": "stdout",
     "output_type": "stream",
     "text": [
      "O parâmetro 2 é par.\n",
      "O parâmetro 3 é impar.\n"
     ]
    }
   ],
   "source": [
    "def parOuImpar(n):\n",
    "    resto = n % 2\n",
    "    if resto == 0:\n",
    "        return f'O parâmetro {n} é par.'\n",
    "    else:\n",
    "        return f'O parâmetro {n} é impar.'\n",
    "\n",
    "\n",
    "print(parOuImpar(2))\n",
    "print(parOuImpar(3))"
   ]
  },
  {
   "cell_type": "code",
   "execution_count": 35,
   "metadata": {},
   "outputs": [
    {
     "name": "stdout",
     "output_type": "stream",
     "text": [
      " Média Final:\n",
      "      \n",
      "Ayumi:9.38  \n",
      "Maria:9.38   \n",
      "Gloria:9.38   \n",
      "Muraki:9.38    \n",
      "      \n"
     ]
    }
   ],
   "source": [
    "def media_final(n1,n2,n3,n4):\n",
    "    media = (n1+n2+n3+n4) / 4\n",
    "    return media\n",
    "\n",
    "Ayumi = media_final(10,9,8.5,10)\n",
    "Maria= media_final(10,9,8.5,10)\n",
    "Gloria = media_final(10,9,8.5,10)\n",
    "Muraki = media_final(10,9,8.5,10)\n",
    "\n",
    "print(f''' Média Final:\n",
    "      \n",
    "Ayumi:{Ayumi:.2f}  \n",
    "Maria:{Maria:.2f}   \n",
    "Gloria:{Gloria:.2f}   \n",
    "Muraki:{Muraki:.2f}    \n",
    "      ''')\n",
    "      \n",
    "\n"
   ]
  }
 ],
 "metadata": {
  "kernelspec": {
   "display_name": "Python 3",
   "language": "python",
   "name": "python3"
  },
  "language_info": {
   "codemirror_mode": {
    "name": "ipython",
    "version": 3
   },
   "file_extension": ".py",
   "mimetype": "text/x-python",
   "name": "python",
   "nbconvert_exporter": "python",
   "pygments_lexer": "ipython3",
   "version": "3.12.6"
  }
 },
 "nbformat": 4,
 "nbformat_minor": 2
}
