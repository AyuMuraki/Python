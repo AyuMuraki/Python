{
 "cells": [
  {
   "cell_type": "code",
   "execution_count": null,
   "metadata": {},
   "outputs": [],
   "source": [
    "'''\n",
    "for(i = 0; i < 10; i + 1){\n",
    "\n",
    "não existe no python esse for\n",
    "}\n",
    "\n",
    "'''"
   ]
  },
  {
   "cell_type": "code",
   "execution_count": 4,
   "metadata": {},
   "outputs": [
    {
     "name": "stdout",
     "output_type": "stream",
     "text": [
      "Valor de i: 0\n",
      "Valor de i: 1\n",
      "Valor de i: 2\n",
      "Valor de i: 3\n",
      "Valor de i: 4\n"
     ]
    }
   ],
   "source": [
    "# range(5) i < 5\n",
    "#Ranger(final)\n",
    "for i in range(5): \n",
    " \n",
    " print(f\"Valor de i: {i}\")"
   ]
  },
  {
   "cell_type": "code",
   "execution_count": 6,
   "metadata": {},
   "outputs": [
    {
     "name": "stdout",
     "output_type": "stream",
     "text": [
      "Valor de i:1\n",
      "Valor de i:2\n",
      "Valor de i:3\n",
      "Valor de i:4\n",
      "Valor de i:5\n"
     ]
    }
   ],
   "source": [
    "'''\n",
    "\n",
    "for (x = 1; x < 6; x + 1){\n",
    "\n",
    "\n",
    "}\n",
    "\n",
    "\n",
    "''' \n",
    "#Ranger(1,6): i < 6\n",
    "#Ranger(inicial,final)\n",
    "for x in range(1,6): #valor final  , preciso indicar o valor incial, se não incicia com 0\n",
    "    print(f\"Valor de i:{x}\")"
   ]
  },
  {
   "cell_type": "code",
   "execution_count": 10,
   "metadata": {},
   "outputs": [
    {
     "name": "stdout",
     "output_type": "stream",
     "text": [
      "Valor de i:0\n",
      "Valor de i:2\n",
      "Valor de i:4\n",
      "Valor de i:6\n",
      "Valor de i:8\n"
     ]
    }
   ],
   "source": [
    "'''\n",
    "\n",
    "for (x = 0; x < 10; x + 2){\n",
    "\n",
    "}\n",
    "\n",
    "\n",
    "''' \n",
    "\n",
    "#ranger(inicia, final, passo):\n",
    "for i in range(0,10,2):\n",
    "    print(f\"Valor de i:{i}\")"
   ]
  }
 ],
 "metadata": {
  "kernelspec": {
   "display_name": "Python 3",
   "language": "python",
   "name": "python3"
  },
  "language_info": {
   "codemirror_mode": {
    "name": "ipython",
    "version": 3
   },
   "file_extension": ".py",
   "mimetype": "text/x-python",
   "name": "python",
   "nbconvert_exporter": "python",
   "pygments_lexer": "ipython3",
   "version": "3.12.6"
  }
 },
 "nbformat": 4,
 "nbformat_minor": 2
}
