{
 "cells": [
  {
   "cell_type": "code",
   "execution_count": 1,
   "metadata": {},
   "outputs": [
    {
     "name": "stdout",
     "output_type": "stream",
     "text": [
      "SEJA BEM-VINDO(A)Thiago\n",
      "SEJA BEM-VINDO(A)Ayumi\n",
      "SEJA BEM-VINDO(A)Roberta\n",
      "SEJA BEM-VINDO(A)Dayane\n"
     ]
    }
   ],
   "source": [
    "lista = ['Thiago','Ayumi','Roberta','Dayane']\n",
    "\n",
    "for lista in lista:\n",
    "    print(f\"SEJA BEM-VINDO(A){lista}\")\n"
   ]
  },
  {
   "cell_type": "code",
   "execution_count": 3,
   "metadata": {},
   "outputs": [
    {
     "name": "stdout",
     "output_type": "stream",
     "text": [
      "MAÇA\n",
      "maça\n",
      "Maça\n",
      "LARANJA\n",
      "laranja\n",
      "Laranja\n",
      "BANANA\n",
      "banana\n",
      "Banana\n",
      "MORANGO\n",
      "morango\n",
      "Morango\n"
     ]
    }
   ],
   "source": [
    "frutas =['Maça', 'Laranja', 'Banana','Morango']\n",
    "\n",
    "for var in frutas:\n",
    "    print(var.upper())\n",
    "    print(var.lower())\n",
    "    print(var.title())\n",
    "    "
   ]
  },
  {
   "cell_type": "code",
   "execution_count": 11,
   "metadata": {},
   "outputs": [
    {
     "name": "stdout",
     "output_type": "stream",
     "text": [
      "Tabuada do 5:\n",
      "5 x 1 = 5\n",
      "5 x 2 = 10\n",
      "5 x 3 = 15\n",
      "5 x 4 = 20\n",
      "5 x 5 = 25\n",
      "5 x 6 = 30\n",
      "5 x 7 = 35\n",
      "5 x 8 = 40\n",
      "5 x 9 = 45\n",
      "5 x 10 = 50\n"
     ]
    }
   ],
   "source": [
    "#Tabuada = com lista \n",
    "numeros = [1,2,3,4,5,6,7,8,9,10]\n",
    "\n",
    "\n",
    "print(\"Tabuada do 5:\")\n",
    "for x in numeros:\n",
    "    print(f'5 x {x} = { x * 5}')"
   ]
  },
  {
   "cell_type": "code",
   "execution_count": 12,
   "metadata": {},
   "outputs": [
    {
     "name": "stdout",
     "output_type": "stream",
     "text": [
      "5 x 1 = 5\n",
      "5 x 2 = 10\n",
      "5 x 3 = 15\n",
      "5 x 4 = 20\n",
      "5 x 5 = 25\n",
      "5 x 6 = 30\n",
      "5 x 7 = 35\n",
      "5 x 8 = 40\n",
      "5 x 9 = 45\n",
      "5 x 10 = 50\n"
     ]
    }
   ],
   "source": [
    "# Tabuada com range\n",
    "\n",
    "# range(11)\n",
    "\n",
    "# lista [1,2,3,4,5,6,7,8,9,10]\n",
    "\n",
    "for x in range(1,11):\n",
    "    \n",
    "    print(f'5 x {x} = {x * 5}')"
   ]
  },
  {
   "cell_type": "code",
   "execution_count": 13,
   "metadata": {},
   "outputs": [
    {
     "name": "stdout",
     "output_type": "stream",
     "text": [
      "U\n",
      "N\n",
      "I\n",
      "P\n"
     ]
    }
   ],
   "source": [
    "# Podemos ultilizar a intrução for com strings\n",
    "\n",
    "for letra in 'UNIP':\n",
    "    print(letra)"
   ]
  },
  {
   "cell_type": "code",
   "execution_count": 15,
   "metadata": {},
   "outputs": [
    {
     "name": "stdout",
     "output_type": "stream",
     "text": [
      "O número 1 NÃO é divisível por 2\n",
      "O número 2 é divisível por 2\n",
      "O número 3 NÃO é divisível por 2\n",
      "O número 4 é divisível por 2\n",
      "O número 5 NÃO é divisível por 2\n",
      "O número 6 é divisível por 2\n",
      "O número 7 NÃO é divisível por 2\n",
      "O número 8 é divisível por 2\n",
      "O número 9 NÃO é divisível por 2\n",
      "O número 10 é divisível por 2\n"
     ]
    }
   ],
   "source": [
    "# Valores que são divisivel por 2\n",
    "\n",
    "numeros = [1,2,3,4,5,6,7,8,9,10]\n",
    "\n",
    "for x in numeros:\n",
    "    resto = x % 2\n",
    "    if resto == 0:\n",
    "        print(f\"O número {x} é divisível por 2\")\n",
    "    else:\n",
    "        print(f\"O número {x} NÃO é divisível por 2\")"
   ]
  }
 ],
 "metadata": {
  "kernelspec": {
   "display_name": "Python 3",
   "language": "python",
   "name": "python3"
  },
  "language_info": {
   "codemirror_mode": {
    "name": "ipython",
    "version": 3
   },
   "file_extension": ".py",
   "mimetype": "text/x-python",
   "name": "python",
   "nbconvert_exporter": "python",
   "pygments_lexer": "ipython3",
   "version": "3.12.6"
  }
 },
 "nbformat": 4,
 "nbformat_minor": 2
}
