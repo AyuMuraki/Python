{
 "cells": [
  {
   "cell_type": "code",
   "execution_count": 4,
   "metadata": {},
   "outputs": [
    {
     "name": "stdout",
     "output_type": "stream",
     "text": [
      "O valor da variável a é 3 e o valor da variável b é 7\n"
     ]
    }
   ],
   "source": [
    "#Regra de interpolação\n",
    "#1. Iniciar a string com a letra f\n",
    "#2. Delimitar o texto com {}\n",
    "a = 3\n",
    "b = 7\n",
    "print(f\"O valor da variável a é {a} e o valor da variável b é {b}\")"
   ]
  },
  {
   "cell_type": "code",
   "execution_count": 12,
   "metadata": {},
   "outputs": [
    {
     "name": "stdout",
     "output_type": "stream",
     "text": [
      "6 + 1.5 = 7.5\n"
     ]
    }
   ],
   "source": [
    "#Expressões\n",
    "\n",
    "np1 = 6\n",
    "trabalho = 1.5\n",
    "print(f\"{np1} + {trabalho} = {np1 + trabalho}\")"
   ]
  },
  {
   "cell_type": "code",
   "execution_count": 13,
   "metadata": {},
   "outputs": [
    {
     "name": "stdout",
     "output_type": "stream",
     "text": [
      "25 / 25\n"
     ]
    }
   ],
   "source": [
    "dia = input(\"Digite qual é o dia atual:\")\n",
    "mes = input(\"Digite qual é o mês atual:\")\n",
    "\n",
    "print(f\"{dia} / {mes}\")"
   ]
  },
  {
   "cell_type": "code",
   "execution_count": 24,
   "metadata": {},
   "outputs": [
    {
     "data": {
      "text/plain": [
       "4.123"
      ]
     },
     "execution_count": 24,
     "metadata": {},
     "output_type": "execute_result"
    }
   ],
   "source": [
    "#Formas de arredondar valores decimais\n",
    "# round()\n",
    "round(4.123456, 3)"
   ]
  },
  {
   "cell_type": "code",
   "execution_count": 25,
   "metadata": {},
   "outputs": [
    {
     "name": "stdout",
     "output_type": "stream",
     "text": [
      "3.3333333333333335\n",
      "3.33\n"
     ]
    }
   ],
   "source": [
    "div = 10 / 3\n",
    "\n",
    "resultado = round(div, 2)\n",
    "print(div)\n",
    "print(resultado)"
   ]
  },
  {
   "cell_type": "code",
   "execution_count": 32,
   "metadata": {},
   "outputs": [
    {
     "name": "stdout",
     "output_type": "stream",
     "text": [
      "Nota final: 6.33\n"
     ]
    }
   ],
   "source": [
    "nota = 19 / 3\n",
    "print(f\"Nota final: {round(nota,2)}\")"
   ]
  },
  {
   "cell_type": "code",
   "execution_count": 33,
   "metadata": {},
   "outputs": [
    {
     "data": {
      "text/plain": [
       "'4.123'"
      ]
     },
     "execution_count": 33,
     "metadata": {},
     "output_type": "execute_result"
    }
   ],
   "source": [
    "#arrendondamento\n",
    "f'{4.12345:.3f}'"
   ]
  },
  {
   "cell_type": "code",
   "execution_count": 39,
   "metadata": {},
   "outputs": [
    {
     "data": {
      "text/plain": [
       "'4,000.12'"
      ]
     },
     "execution_count": 39,
     "metadata": {},
     "output_type": "execute_result"
    }
   ],
   "source": [
    "f'{4000.123456:,.2f}'\n"
   ]
  },
  {
   "cell_type": "code",
   "execution_count": 43,
   "metadata": {},
   "outputs": [
    {
     "name": "stdout",
     "output_type": "stream",
     "text": [
      "Nota final: 6.67\n",
      "Nota final:6.67\n"
     ]
    }
   ],
   "source": [
    "nota = 6.666666666667\n",
    "print(f'Nota final: {round(nota,2)}')\n",
    "print(f'Nota final:{nota:.2f}')"
   ]
  },
  {
   "cell_type": "code",
   "execution_count": 45,
   "metadata": {},
   "outputs": [
    {
     "name": "stdout",
     "output_type": "stream",
     "text": [
      "Universidade Paulista\n",
      "       Unip\n"
     ]
    }
   ],
   "source": [
    "#Textos de multiplas linhas\n",
    "print('''Universidade Paulista\n",
    "       Unip''')"
   ]
  },
  {
   "cell_type": "code",
   "execution_count": 48,
   "metadata": {},
   "outputs": [
    {
     "name": "stdout",
     "output_type": "stream",
     "text": [
      " Nome: Ayumi Muraki\n",
      "      Curso: Análise e desenolvimento de sistema\n"
     ]
    }
   ],
   "source": [
    "nome = input(\"Digite o nome do aluno\")\n",
    "curso = input(\"Digite o curso do aluno\")\n",
    "print(f\"\"\" Nome: {nome}\n",
    "      Curso: {curso}\"\"\")"
   ]
  }
 ],
 "metadata": {
  "kernelspec": {
   "display_name": "Python 3",
   "language": "python",
   "name": "python3"
  },
  "language_info": {
   "codemirror_mode": {
    "name": "ipython",
    "version": 3
   },
   "file_extension": ".py",
   "mimetype": "text/x-python",
   "name": "python",
   "nbconvert_exporter": "python",
   "pygments_lexer": "ipython3",
   "version": "3.12.6"
  }
 },
 "nbformat": 4,
 "nbformat_minor": 2
}
