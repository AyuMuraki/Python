{
 "cells": [
  {
   "cell_type": "code",
   "execution_count": 6,
   "metadata": {},
   "outputs": [
    {
     "name": "stdout",
     "output_type": "stream",
     "text": [
      "False\n"
     ]
    }
   ],
   "source": [
    "#Operadores de Associação\n",
    "# IN / NOT IN\n",
    "\n",
    "# Instrução 'in' verifica se o valor\n",
    "# Informado está contido em um conjunto de valores\n",
    "\n",
    "lista = ['Maça', 'Laranja', 'Banana', 'Melão', 'Abacaxi']\n",
    "\n",
    "print('melao' in lista)"
   ]
  },
  {
   "cell_type": "code",
   "execution_count": 8,
   "metadata": {},
   "outputs": [
    {
     "name": "stdout",
     "output_type": "stream",
     "text": [
      "False\n"
     ]
    }
   ],
   "source": [
    "# Instrução 'Not in' verifica se o valor\n",
    "# NÃO está contido em um conjunto de valores\n",
    "\n",
    "alunos = ['Thiago','João', ' Larissa', 'Mariana','Hugo']\n",
    "\n",
    "'Julia' not in alunos\n",
    "\n",
    "print('Mariana' not in alunos)"
   ]
  },
  {
   "cell_type": "code",
   "execution_count": 15,
   "metadata": {},
   "outputs": [
    {
     "name": "stdout",
     "output_type": "stream",
     "text": [
      "False\n",
      "True\n",
      "True\n",
      "True\n"
     ]
    }
   ],
   "source": [
    "#Podemos ultilizar os operadores de associação com strings\n",
    "\n",
    "'P' in 'Python'\n",
    "\n",
    "print('p' in 'Python')\n",
    "\n",
    "print('Python' in 'Programação em Python')\n",
    "\n",
    "\n",
    "#Not in\n",
    "\n",
    "print('Python' not in 'Programação em Java')\n",
    "\n",
    "letra ='I'\n",
    "palavra ='UNIP'\n",
    "print(letra in palavra)"
   ]
  },
  {
   "cell_type": "code",
   "execution_count": 18,
   "metadata": {},
   "outputs": [
    {
     "name": "stdout",
     "output_type": "stream",
     "text": [
      "A frutaLimão NÃO está contido na lista de frutas\n"
     ]
    }
   ],
   "source": [
    "#Operadores de associação com estrutura condicional \n",
    "\n",
    "lista = ['Maça', 'Laranja', 'Banana', 'Melão', 'Abacaxi']\n",
    "\n",
    "fruta = 'Limão'\n",
    "\n",
    "if fruta in lista:\n",
    "    print(f\"A fruta {fruta} está contido na lista de frutas\")\n",
    "else:\n",
    "     print(f\"A fruta {fruta} NÃO está contido na lista de frutas\")"
   ]
  },
  {
   "cell_type": "code",
   "execution_count": 21,
   "metadata": {},
   "outputs": [
    {
     "name": "stdout",
     "output_type": "stream",
     "text": [
      " O número 5 está contido na lista de números\n"
     ]
    }
   ],
   "source": [
    "# Cuidado com o instrução 'not in'\n",
    "\n",
    "numeros = [1,2,3,4,5]\n",
    "\n",
    "n = 5\n",
    "\n",
    "if n not in numeros:\n",
    "    print(f\"Numeros {n} não está contido na lista de números\")\n",
    "else:\n",
    "    print(f\" O número {n} está contido na lista de números\")"
   ]
  },
  {
   "cell_type": "code",
   "execution_count": 22,
   "metadata": {},
   "outputs": [
    {
     "name": "stdout",
     "output_type": "stream",
     "text": [
      "Peça com desconto\n"
     ]
    }
   ],
   "source": [
    "# Sem Operador de associação\n",
    "\n",
    "# SE a cor da roupa for 'Verde', 'Azul' ou 'Vermelha'\n",
    "#Conceder desconto, senão cobra o valor original \n",
    "\n",
    "roupa = 'Verde'\n",
    "\n",
    "\n",
    "if roupa == 'Verde' or roupa =='Azul' or roupa =='Vermelha':\n",
    "    print(\"Peça com desconto\")\n",
    "else:\n",
    "    print(\"Valor original\")"
   ]
  },
  {
   "cell_type": "code",
   "execution_count": 24,
   "metadata": {},
   "outputs": [
    {
     "name": "stdout",
     "output_type": "stream",
     "text": [
      "Valor original\n"
     ]
    }
   ],
   "source": [
    "# Com Operador de associação\n",
    "\n",
    "# SE a cor da roupa for 'Verde', 'Azul' ou 'Vermelha'\n",
    "#Conceder desconto, senão cobra o valor original \n",
    "\n",
    "roupa = 'Roxo'\n",
    "\n",
    "\n",
    "if roupa in ['Verde','Azul','Vermelha']:\n",
    "    print(\"Peça com desconto\")\n",
    "else:\n",
    "    print(\"Valor original\")"
   ]
  },
  {
   "cell_type": "code",
   "execution_count": 25,
   "metadata": {},
   "outputs": [
    {
     "name": "stdout",
     "output_type": "stream",
     "text": [
      "Valor original\n"
     ]
    }
   ],
   "source": [
    "# Com Operador de associação\n",
    "\n",
    "# SE a cor da roupa for 'Verde', 'Azul' ou 'Vermelha'\n",
    "#Conceder desconto, senão cobra o valor original \n",
    "\n",
    "roupa = 'Roxo'\n",
    "desconto = ['Verde','Azul','Vermelha']\n",
    "\n",
    "\n",
    "if roupa in desconto:\n",
    "    print(\"Peça com desconto\")\n",
    "else:\n",
    "    print(\"Valor original\")"
   ]
  },
  {
   "cell_type": "code",
   "execution_count": 29,
   "metadata": {},
   "outputs": [
    {
     "name": "stdout",
     "output_type": "stream",
     "text": [
      "Peça com desconto\n"
     ]
    }
   ],
   "source": [
    "# Com Operador de associação [CHAT GPT]\n",
    "\n",
    "# SE a cor da roupa for 'Verde', 'Azul' ou 'Vermelha'\n",
    "#Conceder desconto, senão cobra o valor original \n",
    "\n",
    "roupa = 'Azul'\n",
    "\n",
    "if roupa in 'VerdeAzulVermelho':\n",
    "    print(\"Peça com desconto\")\n",
    "else:\n",
    "    print(\"Valor original\")"
   ]
  },
  {
   "cell_type": "code",
   "execution_count": null,
   "metadata": {},
   "outputs": [],
   "source": []
  }
 ],
 "metadata": {
  "kernelspec": {
   "display_name": "Python 3",
   "language": "python",
   "name": "python3"
  },
  "language_info": {
   "codemirror_mode": {
    "name": "ipython",
    "version": 3
   },
   "file_extension": ".py",
   "mimetype": "text/x-python",
   "name": "python",
   "nbconvert_exporter": "python",
   "pygments_lexer": "ipython3",
   "version": "3.12.6"
  }
 },
 "nbformat": 4,
 "nbformat_minor": 2
}
