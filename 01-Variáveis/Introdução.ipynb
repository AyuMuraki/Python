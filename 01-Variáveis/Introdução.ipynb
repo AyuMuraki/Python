{
 "cells": [
  {
   "cell_type": "code",
   "execution_count": 46,
   "metadata": {},
   "outputs": [
    {
     "name": "stdout",
     "output_type": "stream",
     "text": [
      "Você digitou a nota:  25.0\n",
      "Você digitou a nota:  25.0\n",
      "Sua Média Final foi:  25.0\n"
     ]
    }
   ],
   "source": [
    "nota1 = float(input(\"Digite NP1: \"))  # Convertendo a entrada para float\n",
    "nota2 = float(input(\"Digite NP2: \"))  # Convertendo a entrada para float\n",
    "\n",
    "print(\"Você digitou a nota: \", nota1)\n",
    "print(\"Você digitou a nota: \", nota2)\n",
    "\n",
    "soma = nota1 + nota2\n",
    "media = soma / 2\n",
    "\n",
    "print(\"Sua Média Final foi: \", media)\n",
    "\n",
    "\n"
   ]
  }
 ],
 "metadata": {
  "kernelspec": {
   "display_name": "Python 3",
   "language": "python",
   "name": "python3"
  },
  "language_info": {
   "codemirror_mode": {
    "name": "ipython",
    "version": 3
   },
   "file_extension": ".py",
   "mimetype": "text/x-python",
   "name": "python",
   "nbconvert_exporter": "python",
   "pygments_lexer": "ipython3",
   "version": "3.12.6"
  }
 },
 "nbformat": 4,
 "nbformat_minor": 2
}
