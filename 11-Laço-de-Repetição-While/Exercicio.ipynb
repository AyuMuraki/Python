{
 "cells": [
  {
   "cell_type": "markdown",
   "id": "a55a1c33-9a5a-4214-b4fb-567fc561fa60",
   "metadata": {
    "tags": []
   },
   "source": [
    "# <font color='OrangeRed'><center>Exercícios - While</center></font>"
   ]
  },
  {
   "cell_type": "markdown",
   "id": "a7afefee-53de-44b4-b9b5-4572861f6960",
   "metadata": {},
   "source": [
    "### Exercício 01\n",
    "\n",
    "Crie um contador com o valor 10 e faça um loop while onde a cada iteração do loop seja incrementando +1 a variável, enquanto o valor da variável for menor ou igual a 20 continue executando."
   ]
  },
  {
   "cell_type": "code",
   "execution_count": 2,
   "id": "0a96d5a9-a863-4790-b8c3-0e4c2ba925b2",
   "metadata": {},
   "outputs": [
    {
     "name": "stdout",
     "output_type": "stream",
     "text": [
      "O valor de contador 10\n",
      "O valor de contador 11\n",
      "O valor de contador 12\n",
      "O valor de contador 13\n",
      "O valor de contador 14\n",
      "O valor de contador 15\n",
      "O valor de contador 16\n",
      "O valor de contador 17\n",
      "O valor de contador 18\n",
      "O valor de contador 19\n",
      "O valor de contador 20\n"
     ]
    }
   ],
   "source": [
    "contador = 10\n",
    "\n",
    "while contador <= 20:\n",
    "    print(f\"O valor do contador: {contador}\")\n",
    "    contador = contador +1\n",
    "    "
   ]
  },
  {
   "cell_type": "markdown",
   "id": "e50652d8-3a09-4046-b286-e6cd4b2c0b32",
   "metadata": {},
   "source": [
    "---"
   ]
  },
  {
   "cell_type": "markdown",
   "id": "2fd35e37-3b7e-49f2-acbe-c818da01e2d9",
   "metadata": {},
   "source": [
    "### Exercício 02\n",
    "\n",
    "Crie uma variável com o valor '' (vazio) e faça um loop while onde a cada iteração pergunte ao usuário se ele deseja continuar no loop, enquanto o usuário não digitar a palavra 'não' continue executando o loop."
   ]
  },
  {
   "cell_type": "code",
   "execution_count": 26,
   "id": "a2db5c33-42bd-4f4d-a9c8-ce339e4df672",
   "metadata": {},
   "outputs": [
    {
     "name": "stdout",
     "output_type": "stream",
     "text": [
      "Você deseja continuar no  looping?\n",
      "Você deseja continuar no  looping?\n",
      "Você deseja continuar no  looping?\n",
      "Você deseja continuar no  looping?\n",
      "FIM\n"
     ]
    }
   ],
   "source": [
    "comando = ''\n",
    "\n",
    "while comando != 'NÃO':\n",
    "    print(\"Você deseja continuar no  looping?\")\n",
    "     \n",
    "\n",
    "    comando = input(\"Caso queira sair do looping, digite 'NÃO' \")\n",
    "\n",
    "print(\"FIM\")\n",
    "\n",
    "\n",
    "\n"
   ]
  },
  {
   "cell_type": "markdown",
   "id": "e620440b-cc5e-405f-99af-95232020dac2",
   "metadata": {},
   "source": [
    "---"
   ]
  },
  {
   "cell_type": "markdown",
   "id": "9bafa94b-0f3a-48c8-9ee2-40aba2a10143",
   "metadata": {},
   "source": [
    "### Exercício 03\n",
    "\n",
    "Crie um contador com o valor 0 e faça um loop while onde a cada iteração seja incrementando +5 a variável, enquanto o valor da variável for menor ou igual a 50 continue executando."
   ]
  },
  {
   "cell_type": "code",
   "execution_count": 4,
   "id": "63793dfc-e3a1-4f25-9764-e0d2b9730946",
   "metadata": {},
   "outputs": [
    {
     "name": "stdout",
     "output_type": "stream",
     "text": [
      "O valor do contador: 5\n",
      "O valor do contador: 10\n",
      "O valor do contador: 15\n",
      "O valor do contador: 20\n",
      "O valor do contador: 25\n",
      "O valor do contador: 30\n",
      "O valor do contador: 35\n",
      "O valor do contador: 40\n",
      "O valor do contador: 45\n",
      "O valor do contador: 50\n"
     ]
    }
   ],
   "source": [
    "contador = 5\n",
    "\n",
    "while contador <= 50:\n",
    "    print(f\"O valor do contador: {contador}\")\n",
    "    contador = contador + 5\n",
    "\n"
   ]
  },
  {
   "cell_type": "markdown",
   "id": "5a0d5e75-16d6-4513-964c-62ca1e32b479",
   "metadata": {},
   "source": [
    "---"
   ]
  },
  {
   "cell_type": "markdown",
   "id": "9a1da876-a633-43d1-9d71-3d9335a6e0ed",
   "metadata": {},
   "source": [
    "### Exercício 04\n",
    "\n",
    "Crie uma variável com o valor '' e utilizando uma estrutura de repetição while, faça programa que peça para o usuário digitar uma **vogal** e enquanto o usuário não digitar uma vogal continue executando o código."
   ]
  },
  {
   "cell_type": "code",
   "execution_count": 11,
   "id": "184e174b-3ef0-414c-901f-4c1f447cb770",
   "metadata": {},
   "outputs": [
    {
     "name": "stdout",
     "output_type": "stream",
     "text": [
      "Valor inválido. Por favor, digite uma vogal.\n",
      "Valor inválido. Por favor, digite uma vogal.\n",
      "Obrigado, você digitou uma vogal!\n"
     ]
    }
   ],
   "source": [
    "\n",
    "vogais = ['a', 'e', 'i', 'o', 'u', 'A', 'E', 'I', 'O', 'U']\n",
    "\n",
    "\n",
    "valor = ''\n",
    "\n",
    "\n",
    "while valor not in vogais:\n",
    "   \n",
    "    valor = input(\"Digite uma vogal: \")\n",
    "\n",
    "    \n",
    "    if valor not in vogais:\n",
    "        print(\"Valor inválido. Por favor, digite uma vogal.\")\n",
    "\n",
    "\n",
    "print(\"Obrigada, você digitou uma vogal!\")\n"
   ]
  },
  {
   "cell_type": "markdown",
   "id": "a6deec0a-e737-4a96-9d15-76fbc5216253",
   "metadata": {},
   "source": [
    "---"
   ]
  },
  {
   "cell_type": "markdown",
   "id": "2f31bd8e-f02e-4630-a7f4-2c296ea6a2c4",
   "metadata": {},
   "source": [
    "### Exercício 05\n",
    "\n",
    "Crie uma variável com o valor 1 e faça um loop while pedindo para o usuário inserir um número inteiro e enquanto o usuário não inserir um valor **divisível por 3** continue executando o código."
   ]
  },
  {
   "cell_type": "code",
   "execution_count": 28,
   "id": "917e7b34-bc31-4556-8be9-d49d558e874f",
   "metadata": {},
   "outputs": [
    {
     "name": "stdout",
     "output_type": "stream",
     "text": [
      "O número 1 não é divisível por 3.\n",
      "O número 2 não é divisível por 3.\n",
      "Obrigada! Você inseriu o número 3 é divisível  por 3.\n"
     ]
    }
   ],
   "source": [
    "\n",
    "numero = 1\n",
    "\n",
    "while numero % 3 != 0:\n",
    "    \n",
    "    numero = int(input(\"Insira um número inteiro divisível por 3: \"))\n",
    "\n",
    "    if numero % 3 != 0:\n",
    "        print(f\"O número {numero} não é divisível por 3.\")\n",
    "\n",
    "print(f\"Obrigada! Você inseriu o número {numero} é divisível  por 3.\")\n"
   ]
  },
  {
   "cell_type": "markdown",
   "id": "c174efc7-c12d-4173-b77f-e05c28d3cd52",
   "metadata": {},
   "source": [
    "---"
   ]
  },
  {
   "cell_type": "markdown",
   "id": "7426b6c3-b5f5-450e-9cfe-7c99974038ff",
   "metadata": {},
   "source": [
    "### Exercício 06\n",
    "\n",
    "Crie um contador com o valor 0 e faça um loop while pedindo para o usuário inserir um número inteiro e enquanto o usuário inserir um valor **menor que 10 OU maior que 20** continue executando o código."
   ]
  },
  {
   "cell_type": "code",
   "execution_count": 16,
   "id": "61ae61e0-7c11-4f43-bf3d-d89a74d11407",
   "metadata": {},
   "outputs": [
    {
     "name": "stdout",
     "output_type": "stream",
     "text": [
      "Valor inválido. O número não é inteiro.\n",
      "Valor inválido. O número não é inteiro.\n",
      "Obrigado! Você inseriu um número inteiro.\n"
     ]
    }
   ],
   "source": [
    "\n",
    "contador = 0\n",
    "\n",
    "while contador < 10 or  contador > 20:\n",
    "    contador = int(input(\"Insira um número inteiro: \"))\n",
    "    \n",
    "    if contador < 10 or  contador > 20:\n",
    "        print(\"Valor inválido. O número não é inteiro.\")\n",
    "\n",
    "print(\"Obrigada! Você inseriu um número inteiro.\")"
   ]
  },
  {
   "cell_type": "markdown",
   "id": "b91fca52-ea24-474a-a953-c1f7d6ff622d",
   "metadata": {},
   "source": [
    "---"
   ]
  },
  {
   "cell_type": "markdown",
   "id": "8cded626-7d89-44a8-b5ba-9907722b6da1",
   "metadata": {},
   "source": [
    "### Exercício 07\n",
    "\n",
    "Crie uma variável com o valor '' e utilizando uma estrutura de repetição while, faça programa que peça para o usuário **'digitar a senha do programa'** e enquanto o usuário não digitar a palavra **'segredo'** continue executando o código."
   ]
  },
  {
   "cell_type": "code",
   "execution_count": 17,
   "id": "a0aa84ff-cdc8-4944-94cd-586e7d589e8a",
   "metadata": {},
   "outputs": [
    {
     "name": "stdout",
     "output_type": "stream",
     "text": [
      "Senha Inválido.\n",
      "Obrigado! Você inseriu a senha correta.\n"
     ]
    }
   ],
   "source": [
    "valor = ''\n",
    "\n",
    "while valor != 'segredo':\n",
    "    valor = input(\"Digite a senha do programa\")\n",
    "\n",
    "    if valor != 'segredo':\n",
    "        print(\"Senha Inválido.\")\n",
    "\n",
    "print(\"Obrigada! Você inseriu a senha correta.\")\n",
    "\n"
   ]
  },
  {
   "cell_type": "markdown",
   "id": "a9edd058-80ac-4172-9539-c16f6ebefbd2",
   "metadata": {},
   "source": [
    "---"
   ]
  },
  {
   "cell_type": "markdown",
   "id": "2731e88d-620b-4881-8b43-419ffe35e443",
   "metadata": {},
   "source": [
    "### Exercício 08\n",
    "\n",
    "Crie um contador com o valor 0 e utilizando uma estrutura de repetição while crie um programa que imprima 5 vezes a frase **'Programação em Python'**.\n",
    "\n",
    "**Dica:**  \n",
    "_Utilize um contador_"
   ]
  },
  {
   "cell_type": "code",
   "execution_count": 19,
   "id": "e8ab5ad4-f3f7-43f0-a808-464b59c20726",
   "metadata": {},
   "outputs": [
    {
     "name": "stdout",
     "output_type": "stream",
     "text": [
      "Programação em Python\n",
      "Programação em Python\n",
      "Programação em Python\n",
      "Programação em Python\n",
      "Programação em Python\n"
     ]
    }
   ],
   "source": [
    "valor = 0\n",
    "\n",
    "while valor < 5:\n",
    "    print(\"Programação em Python\")\n",
    "    valor = valor + 1\n",
    "\n",
    "\n",
    "\n"
   ]
  },
  {
   "cell_type": "markdown",
   "id": "da3fa10e-b2d2-4439-a151-58ebecdf91bd",
   "metadata": {},
   "source": [
    "---"
   ]
  },
  {
   "cell_type": "markdown",
   "id": "1586e09e-4614-488b-8d33-5dc8d5cc4588",
   "metadata": {
    "tags": []
   },
   "source": [
    "### Exercício 09\n",
    "\n",
    "Crie duas variáveis, sendo uma lista vazia [] e um contador com valor 0, e em seguida faça um loop while onde cada iteração pergunte **'qual fruta o usuário deseja adicionar a lista'**, enquanto a lista não tiver 5 frutas continue executando o código.  \n",
    "\n",
    "Após o fim do loop imprima os itens da lista.  \n",
    "\n",
    "**Dica:**  \n",
    "_Utilize um contador_"
   ]
  },
  {
   "cell_type": "code",
   "execution_count": 23,
   "id": "7abaac3b-e63c-4438-beb5-efb0e02ba727",
   "metadata": {
    "tags": []
   },
   "outputs": [
    {
     "name": "stdout",
     "output_type": "stream",
     "text": [
      "As frutas na lista são:\n",
      "['oi', 'oi', 'oi', 'oi', 'oi']\n"
     ]
    }
   ],
   "source": [
    "# Inicializamos uma lista vazia para armazenar as frutas\n",
    "frutas = []\n",
    "\n",
    "# Inicializamos um contador com o valor 0\n",
    "contador = 0\n",
    "\n",
    "# O laço while continua pedindo frutas enquanto a lista não tiver 5 itens\n",
    "while contador < 5:\n",
    "    # Perguntamos ao usuário qual fruta ele deseja adicionar\n",
    "    fruta = input(\"Qual fruta você deseja adicionar à lista? \")\n",
    "    \n",
    "    # Adicionamos a fruta à lista\n",
    "    frutas.append(fruta)\n",
    "    \n",
    "    # Incrementamos o contador a cada fruta adicionada\n",
    "    contador += 1\n",
    "\n",
    "# Quando o laço termina, imprimimos os itens da lista\n",
    "print(\"As frutas na lista são:\")\n",
    "print(frutas)\n"
   ]
  },
  {
   "cell_type": "markdown",
   "id": "7aee4a32-8157-45a4-adb9-e519f941f353",
   "metadata": {},
   "source": [
    "---"
   ]
  },
  {
   "cell_type": "markdown",
   "id": "c423400e-5e2a-426d-86ed-5e29f6d351b9",
   "metadata": {},
   "source": [
    "### Exercício 10\n",
    "\n",
    "Crie uma variável com o valor 0 e faça um loop while pedindo para o usuário inserir um número inteiro e enquanto o usuário inserir um valor **maior ou igual a zero** continue executando o código."
   ]
  },
  {
   "cell_type": "code",
   "execution_count": 25,
   "id": "5ef50124-40eb-43bd-8235-55d450ee0b5b",
   "metadata": {},
   "outputs": [
    {
     "name": "stdout",
     "output_type": "stream",
     "text": [
      "Valor inválido. O número não é inteiro.\n",
      "Valor inválido. O número não é inteiro.\n",
      "Valor inválido. O número não é inteiro.\n",
      "Valor inválido. O número não é inteiro.\n"
     ]
    },
    {
     "ename": "ValueError",
     "evalue": "invalid literal for int() with base 10: 'escape'",
     "output_type": "error",
     "traceback": [
      "\u001b[1;31m---------------------------------------------------------------------------\u001b[0m",
      "\u001b[1;31mValueError\u001b[0m                                Traceback (most recent call last)",
      "Cell \u001b[1;32mIn[25], line 4\u001b[0m\n\u001b[0;32m      1\u001b[0m contador \u001b[38;5;241m=\u001b[39m \u001b[38;5;241m0\u001b[39m\n\u001b[0;32m      3\u001b[0m \u001b[38;5;28;01mwhile\u001b[39;00m contador \u001b[38;5;241m>\u001b[39m\u001b[38;5;241m=\u001b[39m\u001b[38;5;241m0\u001b[39m :\n\u001b[1;32m----> 4\u001b[0m     contador \u001b[38;5;241m=\u001b[39m \u001b[38;5;28;43mint\u001b[39;49m\u001b[43m(\u001b[49m\u001b[38;5;28;43minput\u001b[39;49m\u001b[43m(\u001b[49m\u001b[38;5;124;43m\"\u001b[39;49m\u001b[38;5;124;43mInsira um número inteiro: \u001b[39;49m\u001b[38;5;124;43m\"\u001b[39;49m\u001b[43m)\u001b[49m\u001b[43m)\u001b[49m\n\u001b[0;32m      6\u001b[0m     \u001b[38;5;28;01mif\u001b[39;00m contador \u001b[38;5;241m>\u001b[39m\u001b[38;5;241m=\u001b[39m\u001b[38;5;241m0\u001b[39m:\n\u001b[0;32m      7\u001b[0m         \u001b[38;5;28mprint\u001b[39m(\u001b[38;5;124m\"\u001b[39m\u001b[38;5;124mValor inválido. O número não é inteiro.\u001b[39m\u001b[38;5;124m\"\u001b[39m)\n",
      "\u001b[1;31mValueError\u001b[0m: invalid literal for int() with base 10: 'escape'"
     ]
    }
   ],
   "source": [
    "\n",
    "contador = 0\n",
    "\n",
    "while contador >= 0 :\n",
    "    contador = int(input(\"Insira um número inteiro: \"))\n",
    "    \n",
    "    if contador >=0:\n",
    "        print(\"Valor inválido. O número não é inteiro.\")\n",
    "\n",
    "print(\"Obrigada! Você inseriu um número inteiro.\")\n"
   ]
  },
  {
   "cell_type": "markdown",
   "id": "e3a6c527-ccfc-457c-9400-002802de044b",
   "metadata": {},
   "source": [
    "---"
   ]
  },
  {
   "cell_type": "markdown",
   "id": "16d3fc53-96a9-4edf-8688-c23a60ab67ab",
   "metadata": {},
   "source": [
    "### Exercício 11\n",
    "\n",
    "Crie uma variável com o valor '' e utilizando uma estrutura de repetição while, faça programa que peça para o usuário **'Digitar uma palavra'** e enquanto o usuário digitar uma palavra com **menos que 6** caracteres continue executando o código."
   ]
  },
  {
   "cell_type": "code",
   "execution_count": null,
   "id": "38bb2a63-b5ee-49f5-ab8e-32ad0579a2e9",
   "metadata": {},
   "outputs": [],
   "source": [
    "\n",
    "\n"
   ]
  },
  {
   "cell_type": "markdown",
   "id": "b277f9bd-6c08-4376-84ce-2366ecfcdcc3",
   "metadata": {},
   "source": [
    "---"
   ]
  },
  {
   "cell_type": "markdown",
   "id": "f9540547-db11-4bd1-8307-064b82f09c20",
   "metadata": {},
   "source": [
    "### Exercício 12\n",
    "\n",
    "Crie uma variável **total** com o valor igual a 0 e em seguida crie um laço while com o valor igual a True, exemplo:\n",
    "\n",
    "```python\n",
    "while True:\n",
    "```\n",
    "\n",
    "Dentro do laço peça para o usuário digitar um número inteiro, cada vez que o usuário digitar um número some o valor informado a variável **total**. \n",
    "\n",
    "Quando a variável **total** for **maior que 100**, então saia do laço (Break)"
   ]
  },
  {
   "cell_type": "code",
   "execution_count": null,
   "id": "422e0260-d6d9-4930-9601-b39d209a43fd",
   "metadata": {
    "tags": []
   },
   "outputs": [],
   "source": [
    "\n",
    "\n"
   ]
  },
  {
   "cell_type": "markdown",
   "id": "d2f352c3-9a73-4042-986a-2710abbebf85",
   "metadata": {},
   "source": [
    "---"
   ]
  }
 ],
 "metadata": {
  "kernelspec": {
   "display_name": "Python 3",
   "language": "python",
   "name": "python3"
  },
  "language_info": {
   "codemirror_mode": {
    "name": "ipython",
    "version": 3
   },
   "file_extension": ".py",
   "mimetype": "text/x-python",
   "name": "python",
   "nbconvert_exporter": "python",
   "pygments_lexer": "ipython3",
   "version": "3.12.6"
  }
 },
 "nbformat": 4,
 "nbformat_minor": 5
}
