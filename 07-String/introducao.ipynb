{
 "cells": [
  {
   "cell_type": "markdown",
   "metadata": {},
   "source": [
    "\n",
    "<h1 align=\"center\" style=\"color: white; font-weight: bold;\">Tabela com os Métodos de String</h1>\n",
    "\n",
    "\n",
    "# Método | Descrição\n",
    "\n",
    "#.upper()      | Converte todos os caracteres para letras maiúsculas.\n",
    "\n",
    "#.lower()      | Converte todos os caracteres para letras minúsculas.\n",
    "\n",
    "#.title()      | Converte a primeira letra de cada palavra em maiúscula.\n",
    "\n",
    "#.capitalize() | Converte apenas a primeira letra de uma string em maiúscula.\n",
    "\n",
    "#.replace()    | Retorna uma string onde um valor especificado é substituído por um novo valor.\n",
    "\n",
    "#.strip()      | Remove os espaços em branco no início e no final de uma string.\n",
    "\n",
    "#.count()      | Retorna a quantidade de vezes que os caracteres informados se repetem.\n",
    "\n",
    "#.zfill()      | Adiciona zeros (0) no início da string, até atingir o comprimento especificado.\n",
    "\n",
    "#.endswith()   | Retorna Verdadeiro se a string terminar com o valor especificado.\n",
    "\n",
    "#.startswith() | Retorna Verdadeiro se a string iniciar com o valor especificado.\n",
    "\n",
    "#.isalpha()    | O método retorna verdadeiro se todos os caracteres forem letras do alfabeto (a-z).\n",
    "\n",
    "#.isdecimal()  | O método retorna verdadeiro se todos os caracteres forem números decimais (0-9).\n",
    "\n",
    "#.isalnum()    | O método retorna verdadeiro se todos os caracteres forem alfanuméricos (a-z ou \n",
    "0-9)."
   ]
  },
  {
   "cell_type": "code",
   "execution_count": null,
   "metadata": {},
   "outputs": [],
   "source": [
    "# Método | Descrição\n",
    "#.upper()      | Converte todos os caracteres para letras maiúsculas.\n",
    "#.lower()      | Converte todos os caracteres para letras minúsculas.\n",
    "#.title()      | Converte a primeira letra de cada palavra em maiúscula.\n",
    "#.capitalize() | Converte apenas a primeira letra de uma string em maiúscula.\n",
    "#.replace()    | Retorna uma string onde um valor especificado é substituído por um novo valor.\n",
    "#.strip()      | Remove os espaços em branco no início e no final de uma string.\n",
    "#.count()      | Retorna a quantidade de vezes que os caracteres informados se repetem.\n",
    "#.zfill()      | Adiciona zeros (0) no início da string, até atingir o comprimento especificado.\n",
    "#.endswith()   | Retorna Verdadeiro se a string terminar com o valor especificado.\n",
    "#.startswith() | Retorna Verdadeiro se a string iniciar com o valor especificado.\n",
    "#.isalpha()    | O método retorna verdadeiro se todos os caracteres forem letras do alfabeto (a-z).\n",
    "\n",
    "#.isdecimal()  | O método retorna verdadeiro se todos os caracteres forem números decimais (0-9).\n",
    "\n",
    "#.isalnum()    | O método retorna verdadeiro se todos os caracteres forem alfanuméricos (a-z ou 0-9)."
   ]
  },
  {
   "cell_type": "code",
   "execution_count": 5,
   "metadata": {},
   "outputs": [
    {
     "data": {
      "text/plain": [
       "'UNIP'"
      ]
     },
     "execution_count": 5,
     "metadata": {},
     "output_type": "execute_result"
    }
   ],
   "source": [
    "# Métodos de string\n",
    "\n",
    "'unip'.upper()"
   ]
  },
  {
   "cell_type": "code",
   "execution_count": 6,
   "metadata": {},
   "outputs": [
    {
     "name": "stdout",
     "output_type": "stream",
     "text": [
      "Python\n"
     ]
    },
    {
     "data": {
      "text/plain": [
       "'PYTHON'"
      ]
     },
     "execution_count": 6,
     "metadata": {},
     "output_type": "execute_result"
    }
   ],
   "source": [
    "#upper() - converte as letras para caixa alta\n",
    "texto = 'Python'\n",
    "print( texto)\n",
    "texto.upper()"
   ]
  },
  {
   "cell_type": "code",
   "execution_count": 7,
   "metadata": {},
   "outputs": [
    {
     "name": "stdout",
     "output_type": "stream",
     "text": [
      "Função\n"
     ]
    },
    {
     "data": {
      "text/plain": [
       "'MÉTODO'"
      ]
     },
     "execution_count": 7,
     "metadata": {},
     "output_type": "execute_result"
    }
   ],
   "source": [
    "# Função x Método\n",
    "\n",
    " # Função declarado na parte externa \n",
    "print(\"Função\")\n",
    "\n",
    "# .Método - sempre seguido de uma classe - claase. \n",
    "\n",
    "'método'.upper()"
   ]
  },
  {
   "cell_type": "code",
   "execution_count": 9,
   "metadata": {},
   "outputs": [
    {
     "name": "stdout",
     "output_type": "stream",
     "text": [
      "letra digitada: f\n",
      "Válor Válido\n"
     ]
    }
   ],
   "source": [
    "letra = input(\"Digite M ou F\")\n",
    "\n",
    "print(f'letra digitada: {letra}')\n",
    "\n",
    "if letra.upper()  == 'M' or letra.upper() == 'F':\n",
    "    print(\"Válor Válido\")\n",
    "else:\n",
    "    print(\"Valor inválido\")\n"
   ]
  },
  {
   "cell_type": "code",
   "execution_count": 14,
   "metadata": {},
   "outputs": [
    {
     "data": {
      "text/plain": [
       "'Akira Watanabe'"
      ]
     },
     "execution_count": 14,
     "metadata": {},
     "output_type": "execute_result"
    }
   ],
   "source": [
    "# title() - Converte o primeiro caractere de cada palavra em caixa alta\n",
    "\n",
    "'ayumi muraki'.title()\n",
    "'akira watanabe'.title()"
   ]
  },
  {
   "cell_type": "code",
   "execution_count": 22,
   "metadata": {},
   "outputs": [
    {
     "data": {
      "text/plain": [
       "'Maria da Ayumi  '"
      ]
     },
     "execution_count": 22,
     "metadata": {},
     "output_type": "execute_result"
    }
   ],
   "source": [
    "# replace(antes, depois) Substitui um valor antigo por um novo \n",
    "\n",
    "'Antes do replace'.replace('Antes','Depois')\n",
    "'Maria da Gloria  '.replace('Gloria', 'Ayumi')\n"
   ]
  },
  {
   "cell_type": "code",
   "execution_count": 27,
   "metadata": {},
   "outputs": [
    {
     "data": {
      "text/plain": [
       "'Programação Em Python'"
      ]
     },
     "execution_count": 27,
     "metadata": {},
     "output_type": "execute_result"
    }
   ],
   "source": [
    "# Métodos Aninhados.\n",
    "\n",
    "java  = \"PROGRAMAÇÃO EM JAVA\"\n",
    "java.title().replace(\"Java\",\"Python\")\n",
    "##java = java.title()\n",
    "##java = java.replace(\"Java\",\"Python\") da pra fazer dessas duas formas metodo = esquerda\n",
    "##java\n",
    "#metodo n converte o valor (string)"
   ]
  },
  {
   "cell_type": "code",
   "execution_count": 34,
   "metadata": {},
   "outputs": [
    {
     "name": "stdout",
     "output_type": "stream",
     "text": [
      "Início   meio   fim\n"
     ]
    },
    {
     "data": {
      "text/plain": [
       "'Início  meio  fim'"
      ]
     },
     "execution_count": 34,
     "metadata": {},
     "output_type": "execute_result"
    }
   ],
   "source": [
    "# remove os espaços do lado direito e esquerdo\n",
    "print('               Início   meio   fim              '.strip()) \n",
    "'               Início   meio   fim              '.strip().replace('  ',' ') "
   ]
  },
  {
   "cell_type": "code",
   "execution_count": 39,
   "metadata": {},
   "outputs": [
    {
     "data": {
      "text/plain": [
       "1"
      ]
     },
     "execution_count": 39,
     "metadata": {},
     "output_type": "execute_result"
    }
   ],
   "source": [
    "'UNIP - Universidade Paulista'.count(\"a\")\n",
    "'UNIP - Universidade Paulista'.count(\"u\")\n",
    "'UNIP - Universidade Paulista'.lower().count(\"u\")\n",
    "'UNIP - Universidade Paulista'.count(\"UNIP\")"
   ]
  },
  {
   "cell_type": "code",
   "execution_count": 41,
   "metadata": {},
   "outputs": [
    {
     "name": "stdout",
     "output_type": "stream",
     "text": [
      "1234\n",
      "00001234\n"
     ]
    }
   ],
   "source": [
    "# .zifill(0) adiciona zeros a esquerda na string até atingir o comprimento especificado\n",
    "\n",
    "print(\"1234\")\n",
    "print(\"1234\".zfill(8))"
   ]
  },
  {
   "cell_type": "code",
   "execution_count": 42,
   "metadata": {},
   "outputs": [
    {
     "data": {
      "text/plain": [
       "True"
      ]
     },
     "execution_count": 42,
     "metadata": {},
     "output_type": "execute_result"
    }
   ],
   "source": [
    "#endswith ( valor ) retorna true se a string termina com o valor informado\n",
    "\n",
    "loc = 'Sorocaba/SP'\n",
    "loc.endswith(\"SP\")"
   ]
  },
  {
   "cell_type": "code",
   "execution_count": 45,
   "metadata": {},
   "outputs": [
    {
     "data": {
      "text/plain": [
       "False"
      ]
     },
     "execution_count": 45,
     "metadata": {},
     "output_type": "execute_result"
    }
   ],
   "source": [
    "loc = 'Sorocaba/SP'\n",
    "loc.startswith(\"salto\")"
   ]
  },
  {
   "cell_type": "code",
   "execution_count": 48,
   "metadata": {},
   "outputs": [
    {
     "data": {
      "text/plain": [
       "False"
      ]
     },
     "execution_count": 48,
     "metadata": {},
     "output_type": "execute_result"
    }
   ],
   "source": [
    "#.issalpha() - retorna true se todos os caracteres forem letras\n",
    "'UNIP'.isalpha()\n",
    "'1345679'.isalpha()\n"
   ]
  },
  {
   "cell_type": "code",
   "execution_count": 52,
   "metadata": {},
   "outputs": [
    {
     "data": {
      "text/plain": [
       "True"
      ]
     },
     "execution_count": 52,
     "metadata": {},
     "output_type": "execute_result"
    }
   ],
   "source": [
    "#.isdecimal() - retorna true se todos os caracteres forem números\n",
    "\n",
    "'1234k'.isdecimal()"
   ]
  },
  {
   "cell_type": "code",
   "execution_count": 54,
   "metadata": {},
   "outputs": [
    {
     "name": "stdout",
     "output_type": "stream",
     "text": [
      "Valor inválido\n"
     ]
    }
   ],
   "source": [
    "idade = input(\"Digite sua idade\")\n",
    "if idade.isnumeric() == True:\n",
    "    print(f\"você tem {idade} anos\")\n",
    "else:\n",
    "    print(\"Valor inválido\")"
   ]
  },
  {
   "cell_type": "code",
   "execution_count": 55,
   "metadata": {},
   "outputs": [
    {
     "data": {
      "text/plain": [
       "4"
      ]
     },
     "execution_count": 55,
     "metadata": {},
     "output_type": "execute_result"
    }
   ],
   "source": [
    "# len(valor) - função que retorona a quantidade de caracteres conta espaço tbm\n",
    "\n",
    "len('UNIP') "
   ]
  },
  {
   "cell_type": "code",
   "execution_count": 58,
   "metadata": {},
   "outputs": [
    {
     "name": "stdout",
     "output_type": "stream",
     "text": [
      " A palavra Ayumi123 tem 8 letras.\n"
     ]
    }
   ],
   "source": [
    "palavra = input(\"Digite uma palavra\")\n",
    "\n",
    "print(f\" A palavra {palavra} tem {len(palavra)} letras.\" )"
   ]
  },
  {
   "cell_type": "code",
   "execution_count": 59,
   "metadata": {},
   "outputs": [
    {
     "data": {
      "text/plain": [
       "'Programação em Java'"
      ]
     },
     "execution_count": 59,
     "metadata": {},
     "output_type": "execute_result"
    }
   ],
   "source": [
    "# Operador * - concatena duas ou mais string\n",
    "\n",
    "'Programação em ' + 'Python'\n",
    "\n",
    "java = 'Java'\n",
    "\n",
    "'Programação em ' + java\n",
    "\n",
    "'Programação em ' + 8 # so pode concatenar somente textos, numero não."
   ]
  },
  {
   "cell_type": "code",
   "execution_count": 63,
   "metadata": {},
   "outputs": [
    {
     "data": {
      "text/plain": [
       "'Ayumi Linda Ayumi Linda Ayumi Linda Ayumi Linda Ayumi Linda Ayumi Linda Ayumi Linda Ayumi Linda Ayumi Linda Ayumi Linda Ayumi Linda Ayumi Linda Ayumi Linda Ayumi Linda Ayumi Linda Ayumi Linda Ayumi Linda Ayumi Linda Ayumi Linda Ayumi Linda Ayumi Linda Ayumi Linda Ayumi Linda Ayumi Linda Ayumi Linda Ayumi Linda Ayumi Linda Ayumi Linda Ayumi Linda Ayumi Linda Ayumi Linda Ayumi Linda Ayumi Linda Ayumi Linda Ayumi Linda Ayumi Linda Ayumi Linda Ayumi Linda Ayumi Linda Ayumi Linda Ayumi Linda Ayumi Linda Ayumi Linda Ayumi Linda Ayumi Linda Ayumi Linda Ayumi Linda Ayumi Linda Ayumi Linda Ayumi Linda Ayumi Linda Ayumi Linda Ayumi Linda Ayumi Linda Ayumi Linda Ayumi Linda Ayumi Linda Ayumi Linda Ayumi Linda Ayumi Linda Ayumi Linda Ayumi Linda Ayumi Linda Ayumi Linda Ayumi Linda Ayumi Linda Ayumi Linda Ayumi Linda Ayumi Linda Ayumi Linda Ayumi Linda Ayumi Linda Ayumi Linda Ayumi Linda Ayumi Linda Ayumi Linda Ayumi Linda Ayumi Linda Ayumi Linda Ayumi Linda Ayumi Linda Ayumi Linda Ayumi Linda Ayumi Linda Ayumi Linda Ayumi Linda Ayumi Linda Ayumi Linda Ayumi Linda Ayumi Linda Ayumi Linda Ayumi Linda Ayumi Linda Ayumi Linda Ayumi Linda Ayumi Linda Ayumi Linda Ayumi Linda Ayumi Linda Ayumi Linda '"
      ]
     },
     "execution_count": 63,
     "metadata": {},
     "output_type": "execute_result"
    }
   ],
   "source": [
    "# Operador * - repete a string pelo numero de vezes informado\n",
    "\n",
    "'Ayumi Linda ' * 100\n"
   ]
  },
  {
   "cell_type": "code",
   "execution_count": 65,
   "metadata": {},
   "outputs": [
    {
     "data": {
      "text/plain": [
       "['__add__',\n",
       " '__class__',\n",
       " '__contains__',\n",
       " '__delattr__',\n",
       " '__dir__',\n",
       " '__doc__',\n",
       " '__eq__',\n",
       " '__format__',\n",
       " '__ge__',\n",
       " '__getattribute__',\n",
       " '__getitem__',\n",
       " '__getnewargs__',\n",
       " '__getstate__',\n",
       " '__gt__',\n",
       " '__hash__',\n",
       " '__init__',\n",
       " '__init_subclass__',\n",
       " '__iter__',\n",
       " '__le__',\n",
       " '__len__',\n",
       " '__lt__',\n",
       " '__mod__',\n",
       " '__mul__',\n",
       " '__ne__',\n",
       " '__new__',\n",
       " '__reduce__',\n",
       " '__reduce_ex__',\n",
       " '__repr__',\n",
       " '__rmod__',\n",
       " '__rmul__',\n",
       " '__setattr__',\n",
       " '__sizeof__',\n",
       " '__str__',\n",
       " '__subclasshook__',\n",
       " 'capitalize',\n",
       " 'casefold',\n",
       " 'center',\n",
       " 'count',\n",
       " 'encode',\n",
       " 'endswith',\n",
       " 'expandtabs',\n",
       " 'find',\n",
       " 'format',\n",
       " 'format_map',\n",
       " 'index',\n",
       " 'isalnum',\n",
       " 'isalpha',\n",
       " 'isascii',\n",
       " 'isdecimal',\n",
       " 'isdigit',\n",
       " 'isidentifier',\n",
       " 'islower',\n",
       " 'isnumeric',\n",
       " 'isprintable',\n",
       " 'isspace',\n",
       " 'istitle',\n",
       " 'isupper',\n",
       " 'join',\n",
       " 'ljust',\n",
       " 'lower',\n",
       " 'lstrip',\n",
       " 'maketrans',\n",
       " 'partition',\n",
       " 'removeprefix',\n",
       " 'removesuffix',\n",
       " 'replace',\n",
       " 'rfind',\n",
       " 'rindex',\n",
       " 'rjust',\n",
       " 'rpartition',\n",
       " 'rsplit',\n",
       " 'rstrip',\n",
       " 'split',\n",
       " 'splitlines',\n",
       " 'startswith',\n",
       " 'strip',\n",
       " 'swapcase',\n",
       " 'title',\n",
       " 'translate',\n",
       " 'upper',\n",
       " 'zfill']"
      ]
     },
     "execution_count": 65,
     "metadata": {},
     "output_type": "execute_result"
    }
   ],
   "source": [
    "# dir(valor) - retorna todos os metodos da classe\n",
    "\n",
    "dir('teste')"
   ]
  }
 ],
 "metadata": {
  "kernelspec": {
   "display_name": "Python 3",
   "language": "python",
   "name": "python3"
  },
  "language_info": {
   "codemirror_mode": {
    "name": "ipython",
    "version": 3
   },
   "file_extension": ".py",
   "mimetype": "text/x-python",
   "name": "python",
   "nbconvert_exporter": "python",
   "pygments_lexer": "ipython3",
   "version": "3.12.6"
  }
 },
 "nbformat": 4,
 "nbformat_minor": 2
}
