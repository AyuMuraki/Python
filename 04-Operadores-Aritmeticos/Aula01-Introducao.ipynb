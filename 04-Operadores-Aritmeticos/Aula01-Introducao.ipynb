{
 "cells": [
  {
   "cell_type": "code",
   "execution_count": 1,
   "metadata": {},
   "outputs": [
    {
     "data": {
      "text/plain": [
       "10"
      ]
     },
     "execution_count": 1,
     "metadata": {},
     "output_type": "execute_result"
    }
   ],
   "source": [
    "# Soma + \n",
    "5 + 5\n",
    "10 + 10 "
   ]
  },
  {
   "cell_type": "code",
   "execution_count": 4,
   "metadata": {},
   "outputs": [
    {
     "data": {
      "text/plain": [
       "5"
      ]
     },
     "execution_count": 4,
     "metadata": {},
     "output_type": "execute_result"
    }
   ],
   "source": [
    "#Subtração -\n",
    "\n",
    "8 - 3\n",
    "12 - 7 \n",
    "23 - 18 "
   ]
  },
  {
   "cell_type": "code",
   "execution_count": 2,
   "metadata": {},
   "outputs": [
    {
     "data": {
      "text/plain": [
       "28"
      ]
     },
     "execution_count": 2,
     "metadata": {},
     "output_type": "execute_result"
    }
   ],
   "source": [
    "# Multiplicação *\n",
    "2 * 5 \n",
    "4 * 7"
   ]
  },
  {
   "cell_type": "code",
   "execution_count": 8,
   "metadata": {},
   "outputs": [
    {
     "data": {
      "text/plain": [
       "2.5"
      ]
     },
     "execution_count": 8,
     "metadata": {},
     "output_type": "execute_result"
    }
   ],
   "source": [
    "#Divisão / \n",
    "#(toda divisao retorna um float)\n",
    "\n",
    "10 / 2 \n",
    "5 / 2"
   ]
  },
  {
   "cell_type": "code",
   "execution_count": 6,
   "metadata": {},
   "outputs": [
    {
     "data": {
      "text/plain": [
       "6"
      ]
     },
     "execution_count": 6,
     "metadata": {},
     "output_type": "execute_result"
    }
   ],
   "source": [
    "#Divisao Inteira // \n",
    "# a divisão não sai como float\n",
    "20 // 3 \n"
   ]
  },
  {
   "cell_type": "code",
   "execution_count": 7,
   "metadata": {},
   "outputs": [
    {
     "data": {
      "text/plain": [
       "0"
      ]
     },
     "execution_count": 7,
     "metadata": {},
     "output_type": "execute_result"
    }
   ],
   "source": [
    "# Módulo % ( retorna o resto da divisao)\n",
    "10 % 5  # RESULTADO É 5 , PORÉM O Q ELE RETORNA E O RESTO DA DIVISÃO"
   ]
  },
  {
   "cell_type": "code",
   "execution_count": 10,
   "metadata": {},
   "outputs": [
    {
     "name": "stdout",
     "output_type": "stream",
     "text": [
      "0\n",
      "1\n",
      "0\n",
      "1\n",
      "0\n"
     ]
    }
   ],
   "source": [
    " # Par ou ímpar\n",
    "print(2 % 2) # Par, resto 0\n",
    "print(3 % 2) # ímpar , resto 1\n",
    "print(4 % 2) # # Par, resto 0\n",
    "print(5 % 2) # ímpar , resto 1\n",
    "print(6 % 2) # # Par, resto 0\n"
   ]
  },
  {
   "cell_type": "code",
   "execution_count": 12,
   "metadata": {},
   "outputs": [
    {
     "name": "stdout",
     "output_type": "stream",
     "text": [
      "2\n",
      "0\n",
      "1\n",
      "2\n",
      "3\n",
      "0\n"
     ]
    }
   ],
   "source": [
    " # Descobrir se um número é divisivel por outro\n",
    "print(5642 % 4 ) \n",
    "print (4 % 4 )\n",
    "print (5 % 4 ) \n",
    "print (6 % 4 )\n",
    "print (7 % 4 )\n",
    "print (8 % 4 )"
   ]
  },
  {
   "cell_type": "code",
   "execution_count": 15,
   "metadata": {},
   "outputs": [
    {
     "name": "stdout",
     "output_type": "stream",
     "text": [
      "4\n",
      "8\n",
      "16\n",
      "32\n"
     ]
    }
   ],
   "source": [
    "# Exponenciação ou Potenciação **\n",
    "\n",
    "print(2 ** 2)\n",
    "print(2 ** 3) \n",
    "print(2 ** 4) \n",
    "print(2 ** 5) "
   ]
  },
  {
   "cell_type": "code",
   "execution_count": null,
   "metadata": {},
   "outputs": [],
   "source": [
    "# ORDEM DE PRESEDENCIA OQUE VAI EXECUTAR PRIMEIR\n",
    "# RESOLVE PRIMEIRO () da precedendia pra quem esta na esquerda para direita\n",
    "#  expoentes **\n",
    "#M ulti e divisao\n",
    "#Somas e subtração"
   ]
  },
  {
   "cell_type": "code",
   "execution_count": 2,
   "metadata": {},
   "outputs": [
    {
     "name": "stdout",
     "output_type": "stream",
     "text": [
      "48\n",
      "1.0\n",
      "36\n",
      "5.0\n"
     ]
    }
   ],
   "source": [
    "#\n",
    "var1 = (2 + 10) * 4\n",
    "var2 = (8 - 4) / 4\n",
    "var3 =  (3 * 2) ** 2 \n",
    "var4 = 4 + 4 /(2+2)\n",
    "print(var1)\n",
    "print(var2)\n",
    "print(var3)\n",
    "print(var4)"
   ]
  }
 ],
 "metadata": {
  "kernelspec": {
   "display_name": "Python 3",
   "language": "python",
   "name": "python3"
  },
  "language_info": {
   "codemirror_mode": {
    "name": "ipython",
    "version": 3
   },
   "file_extension": ".py",
   "mimetype": "text/x-python",
   "name": "python",
   "nbconvert_exporter": "python",
   "pygments_lexer": "ipython3",
   "version": "3.12.6"
  }
 },
 "nbformat": 4,
 "nbformat_minor": 2
}
