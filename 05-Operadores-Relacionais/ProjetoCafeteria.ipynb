{
 "cells": [
  {
   "cell_type": "markdown",
   "metadata": {},
   "source": [
    "<h1 align=\"center\" style=\"color: white; font-weight: bold;\">Totem Interativo</h1>\n"
   ]
  },
  {
   "cell_type": "markdown",
   "metadata": {},
   "source": [
    "## Seja bem-vindo ao meu primeiro projeto em Python!\n",
    "\n",
    "Toda semana, aos sábados, postarei um novo projeto com base em tudo o que foi aprendido durante a semana.\n",
    "\n",
    "### O que foi aprendido e aplicado até agora:\n",
    "\n",
    "- **Comandos básicos**: Usar `print()` para exibir mensagens ao usuário.\n",
    "- **Variáveis**: Para armazenar valores como `preco01`, `preco02`, `comanda` e os métodos de pagamento.\n",
    "- **Interpolação**: Para exibir informações de forma dinâmica usando `f-strings`, como `print(f\"O total do pedido ficou: R${preco:.2f}\")`.\n",
    "- **Texto de múltiplas linhas**: Usar múltiplas linhas para melhorar a legibilidade do código e da interface.\n",
    "- **Arredondamento de números**: Mostrar os preços formatados corretamente com duas casas decimais usando `:.2f`.\n",
    "- **Conversão entre tipos de dados**: Conversão de entradas do usuário de `input()` (que retorna uma string) para `int()` e `float()`, como `comanda = int(input())`.\n",
    "- **Operadores aritméticos**: Operações para calcular o preço total do pedido.\n",
    "- **Operadores relacionais**: Comparar valores para determinar o pedido e a forma de pagamento com `if`, `elif` e `else`.\n",
    "- **Estrutura condicional (if/elif)**: Para determinar qual produto o usuário escolheu e qual forma de pagamento será usada."
   ]
  },
  {
   "cell_type": "code",
   "execution_count": 1,
   "metadata": {},
   "outputs": [
    {
     "name": "stdout",
     "output_type": "stream",
     "text": [
      "Seja Bem Vindo à Cafeteria\n",
      "\n",
      "Nosso Cardápio\n",
      "\n",
      "01 - Café Expresso  R$3.00 \n",
      "02 - Capuccino      R$4.00 \n",
      "03 - Monster        R$5.00 \n",
      "04 - Pão de Queijo  R$5.00 \n",
      "05 - Croissant      R$6.00 \n",
      "Você pediu: Croissant\n",
      "O total do pedido ficou: R$6.00\n",
      "Formas de pagamento disponíveis: \n",
      "08 - PIX\n",
      "10 - Débito\n",
      "11 - Crédito\n",
      "Forma de pagamento escolhida: Débito\n"
     ]
    }
   ],
   "source": [
    "print(\"Seja Bem Vindo à Cafeteria\\n\")\n",
    "  \n",
    "print(\"Nosso Cardápio\\n\")\n",
    "print(\"01 - Café Expresso  R$3.00 \")\n",
    "print(\"02 - Capuccino      R$4.00 \")\n",
    "print(\"03 - Monster        R$5.00 \")\n",
    "print(\"04 - Pão de Queijo  R$5.00 \")\n",
    "print(\"05 - Croissant      R$6.00 \")\n",
    "\n",
    "# Preços dos produtos\n",
    "preco01 = 3.00\n",
    "preco02 = 4.00\n",
    "preco03 = 5.00\n",
    "preco04 = 5.00\n",
    "preco05 = 6.00\n",
    "\n",
    "# Receber o código do pedido\n",
    "comanda = int(input(\"Digite o código do pedido: \"))\n",
    "\n",
    "# Inicializar o preço do pedido\n",
    "preco = 0\n",
    "\n",
    "# Verificar qual foi o  código dopedido\n",
    "if comanda == 1:\n",
    "    preco = preco01\n",
    "    print(\"Você pediu: Café Expresso\")\n",
    "elif comanda == 2:\n",
    "    preco = preco02\n",
    "    print(\"Você pediu: Capuccino\")\n",
    "elif comanda == 3:\n",
    "    preco = preco03\n",
    "    print(\"Você pediu: Monster\")\n",
    "elif comanda == 4:\n",
    "    preco = preco04\n",
    "    print(\"Você pediu: Pão de Queijo\")\n",
    "elif comanda == 5:\n",
    "    preco = preco05\n",
    "    print(\"Você pediu: Croissant\")\n",
    "else:\n",
    "    print(\"Código de pedido inválido\")\n",
    "\n",
    "# Mostrar o preço total\n",
    "print(f\"O total do pedido ficou: R${preco:.2f}\")\n",
    "\n",
    "# Escolher a forma de pagamento\n",
    "print(\"Formas de pagamento disponíveis: \")\n",
    "print(\"08 - PIX\")\n",
    "print(\"10 - Débito\")\n",
    "print(\"11 - Crédito\")\n",
    "\n",
    "pagamento = int(input(\"Digite o código da forma de pagamento: \"))\n",
    "\n",
    "# Verificar qual foi a forma de pagamento escolhida\n",
    "if pagamento == 8:\n",
    "    print(\"Forma de pagamento escolhida: PIX\")\n",
    "elif pagamento == 10:\n",
    "    print(\"Forma de pagamento escolhida: Débito\")\n",
    "elif pagamento == 11:\n",
    "    print(\"Forma de pagamento escolhida: Crédito\")\n",
    "else:\n",
    "    print(\"Forma de pagamento inválida\")\n"
   ]
  }
 ],
 "metadata": {
  "kernelspec": {
   "display_name": "Python 3",
   "language": "python",
   "name": "python3"
  },
  "language_info": {
   "codemirror_mode": {
    "name": "ipython",
    "version": 3
   },
   "file_extension": ".py",
   "mimetype": "text/x-python",
   "name": "python",
   "nbconvert_exporter": "python",
   "pygments_lexer": "ipython3",
   "version": "3.12.6"
  }
 },
 "nbformat": 4,
 "nbformat_minor": 2
}
