{
 "cells": [
  {
   "cell_type": "code",
   "execution_count": null,
   "metadata": {},
   "outputs": [],
   "source": [
    "#todas as linhas serão executadas\n",
    "\n",
    "idade = int((\"Digite sua idade\"))\n",
    "\n",
    "print(\"Você é maior de idade\")\n",
    "print(\"Menor de idade\")"
   ]
  },
  {
   "cell_type": "code",
   "execution_count": 6,
   "metadata": {},
   "outputs": [
    {
     "name": "stdout",
     "output_type": "stream",
     "text": [
      "Você é menor de idade\n"
     ]
    }
   ],
   "source": [
    "#se idade for maior ou igual a 18 faça alguma coisa\n",
    "idade = int(input(\"Digite sua idade\"))\n",
    "\n",
    "if idade >= 18: \n",
    "    print(\"Você e maior de idade\")\n",
    "else:\n",
    "    print(\"Você é menor de idade\")\n",
    "    "
   ]
  },
  {
   "cell_type": "code",
   "execution_count": 9,
   "metadata": {},
   "outputs": [
    {
     "name": "stdout",
     "output_type": "stream",
     "text": [
      "Nota do Aluno: 10.0 APROVADO\n"
     ]
    }
   ],
   "source": [
    "nota = float(input(\"Digite a note do aluno\"))\n",
    "\n",
    "if nota >= 7:\n",
    "    print(f\"Nota do Aluno: {nota} APROVADO\")\n",
    "else:\n",
    "    print(f\"Nota do aluno {nota} Aluno precisa fazer EXAME\")"
   ]
  },
  {
   "cell_type": "code",
   "execution_count": 10,
   "metadata": {},
   "outputs": [
    {
     "name": "stdout",
     "output_type": "stream",
     "text": [
      "Compra Reprovada\n"
     ]
    }
   ],
   "source": [
    "saldo = float(input(\"Por favor digite o saldo da conta:\"))\n",
    "\n",
    "if saldo >= 100.00:\n",
    "    print(\"Compra Aprovada\")\n",
    "else:\n",
    "    print(\"Compra Reprovada\")"
   ]
  },
  {
   "cell_type": "code",
   "execution_count": 13,
   "metadata": {},
   "outputs": [
    {
     "name": "stdout",
     "output_type": "stream",
     "text": [
      "BOM\n"
     ]
    }
   ],
   "source": [
    "curso = str(input(\"Digite o nome do seu curso\"))\n",
    "if curso == 'Python':\n",
    "    print(\"Excelente\")\n",
    "else: #else não vai condição\n",
    "    print(\"BOM\")   \n",
    "\n"
   ]
  },
  {
   "cell_type": "code",
   "execution_count": 14,
   "metadata": {},
   "outputs": [
    {
     "name": "stdout",
     "output_type": "stream",
     "text": [
      "A é menor que B\n"
     ]
    }
   ],
   "source": [
    "# o valor da variavel 'a' comparado com a variavel 'b' é:\n",
    "#maior\n",
    "#igual\n",
    "#menor\n",
    "a = 5\n",
    "b = 6\n",
    "\n",
    "if a > b: #dois if não é permitido\n",
    "    print(\"A é maior que B\")\n",
    "elif a == b: # permite colocar outra expressão # eu posso usar quantos quiser\n",
    "    print(\"A é igual a B\")\n",
    "elif a < b:  \n",
    "    print(\"A é menor que B\")"
   ]
  },
  {
   "cell_type": "code",
   "execution_count": 19,
   "metadata": {},
   "outputs": [
    {
     "name": "stdout",
     "output_type": "stream",
     "text": [
      "Ruim\n"
     ]
    }
   ],
   "source": [
    "nota = float(input(\"Digite a nota final:\"))\n",
    "\n",
    "if nota >= 6:\n",
    "    print(\"BOM\")\n",
    "elif nota == 5:\n",
    "    print(\"Regular\")\n",
    "elif nota <= 4:\n",
    "    print(\"Ruim\")\n",
    "# else é ultilizado no contexto de para qualquer outro resultado\n",
    "# Confirme se o usuario digitou a letra A\n",
    "# e para qualquer outro valor retorne que o valor esta incorreto\n",
    "\n"
   ]
  },
  {
   "cell_type": "code",
   "execution_count": 5,
   "metadata": {},
   "outputs": [
    {
     "name": "stdout",
     "output_type": "stream",
     "text": [
      "O valor está incorreto\n"
     ]
    }
   ],
   "source": [
    "letra = input(\"digite uma letra\")\n",
    "if letra == 'A':\n",
    "    print(\"Valor está correto\")\n",
    "else:\n",
    "    print(\"O valor está incorreto\")"
   ]
  }
 ],
 "metadata": {
  "kernelspec": {
   "display_name": "Python 3",
   "language": "python",
   "name": "python3"
  },
  "language_info": {
   "codemirror_mode": {
    "name": "ipython",
    "version": 3
   },
   "file_extension": ".py",
   "mimetype": "text/x-python",
   "name": "python",
   "nbconvert_exporter": "python",
   "pygments_lexer": "ipython3",
   "version": "3.12.6"
  }
 },
 "nbformat": 4,
 "nbformat_minor": 2
}
