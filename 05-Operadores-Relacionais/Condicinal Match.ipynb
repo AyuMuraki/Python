{
 "cells": [
  {
   "cell_type": "code",
   "execution_count": 2,
   "metadata": {},
   "outputs": [
    {
     "name": "stdout",
     "output_type": "stream",
     "text": [
      "Segunda\n"
     ]
    }
   ],
   "source": [
    "# outro tipo de condicional IF / switch\n",
    "# Match (switch)\n",
    "\n",
    "semana = int(input(\"Digite um número da semana 1 a 7:\"))\n",
    "\n",
    "if semana == 1:\n",
    "    print(\"Domingo\")\n",
    "elif semana  == 2:\n",
    "    print(\"Segunda\")\n",
    "    if semana == 3:\n",
    "     print(\"Domingo\")\n",
    "elif semana  == 4:\n",
    "    print(\"Segunda\")\n",
    "    if semana == 5:\n",
    "     print(\"Domingo\")\n",
    "elif semana  == 6:\n",
    "    print(\"Segunda\")\n",
    "    if semana == 7:\n",
    "     print(\"Domingo\")\n",
    "else:\n",
    "    print(\"Valor Inválido\")"
   ]
  },
  {
   "cell_type": "code",
   "execution_count": 3,
   "metadata": {},
   "outputs": [
    {
     "name": "stdout",
     "output_type": "stream",
     "text": [
      "Número Inválido\n"
     ]
    }
   ],
   "source": [
    "semana = int(input(\"Digite um número da semana 1 a 7, sendo:\"))\n",
    "\n",
    "match semana:\n",
    "    case 1:\n",
    "        print(\"Domingo\")\n",
    "    case 2:\n",
    "        print(\"Segunda\")\n",
    "    case 3:\n",
    "        print(\"Terça\")\n",
    "    case 4:\n",
    "        print(\"Quarta\")\n",
    "    case 5:\n",
    "        print(\"Quinta\")\n",
    "    case 6:\n",
    "        print(\"Sexta\")\n",
    "    case 7:\n",
    "        print(\"Sábado\")\n",
    "    case _:\n",
    "        print(\"Número Inválido\")\n",
    "    \n"
   ]
  },
  {
   "cell_type": "code",
   "execution_count": null,
   "metadata": {},
   "outputs": [],
   "source": [
    "idioma = int(input(\"Qual idioma deseja ser recebido:\"))\n",
    "\n",
    "match idioma:\n",
    "    case 1:\n",
    "       print(\"Bienvenido\")\n",
    "    case 2:\n",
    "       print(\"Bienvenue\")\n",
    "    case 3:\n",
    "      print(\"Bem-Vindo\")\n",
    "    case 4:\n",
    "       print(\"Welcome\")\n",
    "    case _:\n",
    "      print(\"Código Inválido\")\n",
    "\n"
   ]
  }
 ],
 "metadata": {
  "kernelspec": {
   "display_name": "Python 3",
   "language": "python",
   "name": "python3"
  },
  "language_info": {
   "codemirror_mode": {
    "name": "ipython",
    "version": 3
   },
   "file_extension": ".py",
   "mimetype": "text/x-python",
   "name": "python",
   "nbconvert_exporter": "python",
   "pygments_lexer": "ipython3",
   "version": "3.12.6"
  }
 },
 "nbformat": 4,
 "nbformat_minor": 2
}
