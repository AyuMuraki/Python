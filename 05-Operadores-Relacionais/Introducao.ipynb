{
 "cells": [
  {
   "cell_type": "code",
   "execution_count": null,
   "metadata": {},
   "outputs": [],
   "source": [
    "#Operadores Relacionais \n",
    "#Operadores de comparações em uma expressão.\n",
    "#São iguais?\n",
    "#As duas possuem a mesma quantidade?\n",
    "#tem a mesma cor?\n",
    "#os os operdores relacionais sempre retornam um valor booleano \n",
    "#verdadeiro ou falso (true ou false)"
   ]
  },
  {
   "cell_type": "code",
   "execution_count": 4,
   "metadata": {},
   "outputs": [
    {
     "data": {
      "text/plain": [
       "True"
      ]
     },
     "execution_count": 4,
     "metadata": {},
     "output_type": "execute_result"
    }
   ],
   "source": [
    "# Maior > \n",
    "\n",
    "6 > 8\n",
    "6 > 4\n",
    "6 > 6"
   ]
  },
  {
   "cell_type": "code",
   "execution_count": 7,
   "metadata": {},
   "outputs": [
    {
     "data": {
      "text/plain": [
       "True"
      ]
     },
     "execution_count": 7,
     "metadata": {},
     "output_type": "execute_result"
    }
   ],
   "source": [
    "# Maior ou igual >=\n",
    "\n",
    "6 >= 8\n",
    "\n",
    "6 >= 4\n",
    " \n",
    "6 >= 6 "
   ]
  },
  {
   "cell_type": "code",
   "execution_count": 10,
   "metadata": {},
   "outputs": [
    {
     "data": {
      "text/plain": [
       "False"
      ]
     },
     "execution_count": 10,
     "metadata": {},
     "output_type": "execute_result"
    }
   ],
   "source": [
    "# Menor <\n",
    "\n",
    "6 < 8 \n",
    "\n",
    "6 < 4 \n",
    "\n",
    "6 < 6 "
   ]
  },
  {
   "cell_type": "code",
   "execution_count": 14,
   "metadata": {},
   "outputs": [
    {
     "data": {
      "text/plain": [
       "True"
      ]
     },
     "execution_count": 14,
     "metadata": {},
     "output_type": "execute_result"
    }
   ],
   "source": [
    "# Menor ou igual <\n",
    "\n",
    "6 <= 8 \n",
    "\n",
    "6 <= 4 \n",
    " \n",
    "6 <= 6 \n"
   ]
  },
  {
   "cell_type": "code",
   "execution_count": 18,
   "metadata": {},
   "outputs": [
    {
     "data": {
      "text/plain": [
       "True"
      ]
     },
     "execution_count": 18,
     "metadata": {},
     "output_type": "execute_result"
    }
   ],
   "source": [
    "# Igualdade ==\n",
    "# Atribuição =\n",
    "\n",
    "5 == 5   #  true\n",
    "\n",
    "5 == 0   #  false\n",
    "\n",
    "5 == '5' #  false\n",
    "\n",
    "5 == 5.0 #  true"
   ]
  },
  {
   "cell_type": "code",
   "execution_count": 19,
   "metadata": {},
   "outputs": [
    {
     "data": {
      "text/plain": [
       "True"
      ]
     },
     "execution_count": 19,
     "metadata": {},
     "output_type": "execute_result"
    }
   ],
   "source": [
    "'UNIP' == 'UNIP'"
   ]
  },
  {
   "cell_type": "code",
   "execution_count": null,
   "metadata": {},
   "outputs": [],
   "source": [
    "# Diferente !=\n",
    "\n",
    "'UNIP' != 'UNIP' # FALSE\n",
    "'UNIP' != 'unip' # TRUE\n"
   ]
  }
 ],
 "metadata": {
  "kernelspec": {
   "display_name": "Python 3",
   "language": "python",
   "name": "python3"
  },
  "language_info": {
   "codemirror_mode": {
    "name": "ipython",
    "version": 3
   },
   "file_extension": ".py",
   "mimetype": "text/x-python",
   "name": "python",
   "nbconvert_exporter": "python",
   "pygments_lexer": "ipython3",
   "version": "3.12.6"
  }
 },
 "nbformat": 4,
 "nbformat_minor": 2
}
