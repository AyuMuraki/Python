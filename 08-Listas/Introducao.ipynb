{
 "cells": [
  {
   "cell_type": "code",
   "execution_count": null,
   "metadata": {},
   "outputs": [],
   "source": [
    "#Tabela com os Métodos de Lista\n",
    "#Método       | Descrição\n",
    "#.append()    | Adiciona um item ao final da fila.\n",
    "#.insert()    | Adiciona um novo item na posição informada e reposiciona os itens posteriores.\n",
    "#.remove()    | Remove o primeiro item encontrado baseado no valor informado.\n",
    "#.pop()       | Remove o primeiro item encontrado baseado no índice informado.\n",
    "#.index()     | Retorna o índice do primeiro item encontrado baseado no valor passado como argumento.\n",
    "#.count()     | Retorna o número de vezes que valor informado foi encontrado na lista.\n",
    "#.sort()      | Ordena os itens da lista.\n",
    "#.reverse()   | Inverte a ordem dos itens da lista."
   ]
  },
  {
   "cell_type": "code",
   "execution_count": null,
   "metadata": {},
   "outputs": [],
   "source": [
    "#Tabela com as Funções que podem ser usadas com Listas\n",
    "#Função    | Descrição\n",
    "#len()     | Retorna o número de itens contidos na lista.\n",
    "#sum()     | Retorna a soma de todos os números.\n",
    "#max()     | Retorna o maior valor da lista.\n",
    "#min()     | Retorna o menor valor da lista."
   ]
  },
  {
   "cell_type": "code",
   "execution_count": 3,
   "metadata": {},
   "outputs": [
    {
     "name": "stdout",
     "output_type": "stream",
     "text": [
      "[1, 2, 3.5, 'Python', True, False]\n"
     ]
    }
   ],
   "source": [
    "# Lista\n",
    "# armazena qualquer tipo de dado.\n",
    "# indxado possui valor numerico para localizar esse valor \n",
    "\n",
    "num = 5\n",
    "\n",
    "lista = [1, 2 , 3.5, 'Python' , True, False]\n",
    "print(lista)\n"
   ]
  },
  {
   "cell_type": "code",
   "execution_count": null,
   "metadata": {},
   "outputs": [],
   "source": [
    "lista = []\n",
    "\n",
    "type(lista)"
   ]
  },
  {
   "cell_type": "code",
   "execution_count": 5,
   "metadata": {},
   "outputs": [
    {
     "name": "stdout",
     "output_type": "stream",
     "text": [
      "['Ayumi', ' Maria ', 'Lucas ', 'Mari']\n",
      "['Maria', 'Ayumi']\n"
     ]
    }
   ],
   "source": [
    "# Formas de se criar uma lista\n",
    "\n",
    "lista1 = [] # esse usa mais \n",
    "\n",
    "lista2 = ['Ayumi', ' Maria ', 'Lucas ', 'Mari'] # esse tbm \n",
    "\n",
    "lista3 = list(('Maria','Ayumi'))\n",
    "\n",
    "print(lista2)\n",
    "print(lista3)"
   ]
  },
  {
   "cell_type": "code",
   "execution_count": 8,
   "metadata": {},
   "outputs": [
    {
     "name": "stdout",
     "output_type": "stream",
     "text": [
      "['Java', 'Python', 'C', 'PHP', 'C#']\n",
      "Java\n",
      "C#\n"
     ]
    }
   ],
   "source": [
    "# retorna um item da lista\n",
    "\n",
    "lista = ['Java', 'Python', 'C', 'PHP','C#']\n",
    "print(lista)\n",
    "print(lista[0]) #tem que ser do tipo inteiro \n",
    "print(lista[4])"
   ]
  },
  {
   "cell_type": "code",
   "execution_count": 11,
   "metadata": {},
   "outputs": [
    {
     "name": "stdout",
     "output_type": "stream",
     "text": [
      "Python\n",
      "Python\n"
     ]
    }
   ],
   "source": [
    "n = 1\n",
    "print(lista[n]) # não importa se for uma variavel desde que seja do tipo inteiro.\n",
    "print(lista[0 + 1])"
   ]
  },
  {
   "cell_type": "code",
   "execution_count": 14,
   "metadata": {},
   "outputs": [
    {
     "name": "stdout",
     "output_type": "stream",
     "text": [
      "java\n"
     ]
    }
   ],
   "source": [
    "#Indice dinâmico \n",
    "#  todo indice precisa do tipo inteiro\n",
    "#manipular valores de uma lista e atraves de metodos. \n",
    "# cria e gerencia indice \n",
    "# as strings tbm possuem indices\n",
    "\n",
    "lista = ['java','Python','C','PHP','C#','JS']\n",
    "\n",
    "\n",
    "i = int(input(\"Digite um número\"))\n",
    "\n",
    "print(lista[i])"
   ]
  },
  {
   "cell_type": "code",
   "execution_count": 21,
   "metadata": {},
   "outputs": [
    {
     "data": {
      "text/plain": [
       "['Java', 'Python', 'C', 'PHP', 'C#', 'C++', 'Ayumi']"
      ]
     },
     "execution_count": 21,
     "metadata": {},
     "output_type": "execute_result"
    }
   ],
   "source": [
    "# .append(valor) - adiciona um item ao final da lista\n",
    "\n",
    "lista = ['Java', 'Python', 'C', 'PHP' , 'C#']\n",
    "#lista.append('C++').append('Ayumi') # none  # erro\n",
    "\n",
    "#correto\n",
    "lista.append('C++') # tem q ir um por um\n",
    "lista.append('Ayumi')\n",
    "\n",
    "lista"
   ]
  },
  {
   "cell_type": "code",
   "execution_count": 18,
   "metadata": {},
   "outputs": [
    {
     "name": "stdout",
     "output_type": "stream",
     "text": [
      "PYTHON\n",
      "None\n"
     ]
    }
   ],
   "source": [
    "print('Python'.upper())\n",
    "\n",
    "print([5,6,7].append(8)) # "
   ]
  },
  {
   "cell_type": "code",
   "execution_count": null,
   "metadata": {},
   "outputs": [],
   "source": [
    "# insert.\n",
    "numeros = [1, 2, 3, 5, 6, 7]\n",
    "\n",
    "numeros.insert(3 , 4)\n",
    "\n",
    "numeros"
   ]
  },
  {
   "cell_type": "code",
   "execution_count": 23,
   "metadata": {},
   "outputs": [
    {
     "data": {
      "text/plain": [
       "['Java', 'Python', 'PHP', 'C#']"
      ]
     },
     "execution_count": 23,
     "metadata": {},
     "output_type": "execute_result"
    }
   ],
   "source": [
    "# .remove(valor) =  Remove um intem baseado no valor informado\n",
    "\n",
    "lista = ['Java', 'Python', 'C', 'PHP' , 'C#']\n",
    "\n",
    "lista.remove('C')\n",
    "\n",
    "lista\n"
   ]
  },
  {
   "cell_type": "code",
   "execution_count": 24,
   "metadata": {},
   "outputs": [
    {
     "data": {
      "text/plain": [
       "['Java', 'Python', 'PHP', 'C#']"
      ]
     },
     "execution_count": 24,
     "metadata": {},
     "output_type": "execute_result"
    }
   ],
   "source": [
    "# pop.(indice) - remove um item baseado no indice informado \n",
    "\n",
    "lista = ['Java', 'Python', 'C', 'PHP' , 'C#']\n",
    "\n",
    "lista.pop(2)\n",
    "\n",
    "\n",
    "lista"
   ]
  },
  {
   "cell_type": "code",
   "execution_count": 46,
   "metadata": {},
   "outputs": [
    {
     "data": {
      "text/plain": [
       "1"
      ]
     },
     "execution_count": 46,
     "metadata": {},
     "output_type": "execute_result"
    }
   ],
   "source": [
    "# .index(valor) retorna o indice do valor informado\n",
    "# se for uma lista grandona da pra conta, mas da muito trabalho.\n",
    "\n",
    "\n",
    "lista = ['Java', 'Python', 'C', 'PHP' , 'C#']\n",
    "\n",
    "lista.index('Python')\n",
    "#lista.index('C++') # se caso não encontra o item na lista da erro. "
   ]
  },
  {
   "cell_type": "code",
   "execution_count": 29,
   "metadata": {},
   "outputs": [
    {
     "data": {
      "text/plain": [
       "4"
      ]
     },
     "execution_count": 29,
     "metadata": {},
     "output_type": "execute_result"
    }
   ],
   "source": [
    "# .count(valor) - Retorna o numero de vezes que o valor informado\n",
    "# é econtrado na lista \n",
    "\n",
    "lista = [2,3,3,4,4,4,5,5,5,5]\n",
    "lista.count(2)\n",
    "lista.count(5)"
   ]
  },
  {
   "cell_type": "code",
   "execution_count": 31,
   "metadata": {},
   "outputs": [
    {
     "data": {
      "text/plain": [
       "['a', 'b', 'c', 'd', 'f', 'g', 'h']"
      ]
     },
     "execution_count": 31,
     "metadata": {},
     "output_type": "execute_result"
    }
   ],
   "source": [
    "# .sort() - Ordena os valores de uma lista.\n",
    "\n",
    "lista = [8,5,6,9,7]\n",
    "letras = ['a','b','c','f','d','g','h']\n",
    "\n",
    "lista.sort()\n",
    "letras.sort()\n",
    "\n",
    "lista\n",
    "letras"
   ]
  },
  {
   "cell_type": "code",
   "execution_count": 32,
   "metadata": {},
   "outputs": [
    {
     "data": {
      "text/plain": [
       "[2, 1, 4, 5, 3]"
      ]
     },
     "execution_count": 32,
     "metadata": {},
     "output_type": "execute_result"
    }
   ],
   "source": [
    "# .reverse() - inverte a ordem dos valores da lista\n",
    "\n",
    "lista = [3,5,4,1,2]\n",
    "\n",
    "lista.reverse()\n",
    "\n",
    "lista"
   ]
  },
  {
   "cell_type": "code",
   "execution_count": 33,
   "metadata": {},
   "outputs": [
    {
     "data": {
      "text/plain": [
       "5"
      ]
     },
     "execution_count": 33,
     "metadata": {},
     "output_type": "execute_result"
    }
   ],
   "source": [
    "# len(lista) - Retorna a quantidade de itens de uma lista, comprimento..\n",
    "\n",
    "lista = ['Java', 'Python', 'C', 'PHP' , 'C#']\n",
    "\n",
    "len(lista)\n"
   ]
  },
  {
   "cell_type": "code",
   "execution_count": 34,
   "metadata": {},
   "outputs": [
    {
     "data": {
      "text/plain": [
       "100"
      ]
     },
     "execution_count": 34,
     "metadata": {},
     "output_type": "execute_result"
    }
   ],
   "source": [
    "# sum(lista) - Retorna a soma dos números de uma lista\n",
    "\n",
    "lista = [20,10,30,40]\n",
    "\n",
    "sum(lista)"
   ]
  },
  {
   "cell_type": "code",
   "execution_count": 47,
   "metadata": {},
   "outputs": [
    {
     "data": {
      "text/plain": [
       "40"
      ]
     },
     "execution_count": 47,
     "metadata": {},
     "output_type": "execute_result"
    }
   ],
   "source": [
    "# max(lista) - Retorna o maior valor de uma lista\n",
    "\n",
    "lista = [10,20,30,40]\n",
    "\n",
    "max(lista)"
   ]
  },
  {
   "cell_type": "code",
   "execution_count": 36,
   "metadata": {},
   "outputs": [
    {
     "data": {
      "text/plain": [
       "['C++', 'Python', 'C', 'PHP', 'C#']"
      ]
     },
     "execution_count": 36,
     "metadata": {},
     "output_type": "execute_result"
    }
   ],
   "source": [
    "# Como alterar o valor de um item da lista\n",
    "#sobrescrever um valor\n",
    "# informa qual indice que eu gostaria de remover e mostrar o valor.\n",
    "\n",
    "lista = ['Java', 'Python', 'C', 'PHP' , 'C#']\n",
    "\n",
    "lista[0] = 'C++'\n",
    "\n",
    "lista"
   ]
  },
  {
   "cell_type": "code",
   "execution_count": 40,
   "metadata": {},
   "outputs": [
    {
     "data": {
      "text/plain": [
       "['Java', 'Python', 'C', 'PHP', 'C#', 'SQL', 'C++', 'JS']"
      ]
     },
     "execution_count": 40,
     "metadata": {},
     "output_type": "execute_result"
    }
   ],
   "source": [
    "# Operador + - retorna a junção e duas ou mais listas\n",
    "\n",
    "lista = ['Java', 'Python', 'C', 'PHP' , 'C#']\n",
    "\n",
    "lista + ['SQL' , 'C++' , 'JS']\n",
    "\n"
   ]
  },
  {
   "cell_type": "code",
   "execution_count": 43,
   "metadata": {},
   "outputs": [
    {
     "data": {
      "text/plain": [
       "['Java', 'Python', 'C', 'PHP']"
      ]
     },
     "execution_count": 43,
     "metadata": {},
     "output_type": "execute_result"
    }
   ],
   "source": [
    "lista = ['Java', 'Python']\n",
    "\n",
    "#precisa fazer dessa forma, para que aja uma junção \n",
    "lista = lista + ['C', 'PHP']\n",
    "\n",
    "lista"
   ]
  },
  {
   "cell_type": "code",
   "execution_count": 44,
   "metadata": {},
   "outputs": [
    {
     "data": {
      "text/plain": [
       "[0, 1, 0, 1]"
      ]
     },
     "execution_count": 44,
     "metadata": {},
     "output_type": "execute_result"
    }
   ],
   "source": [
    "# Operador * - retorna valores da lista pela quantidade de vezes informado \n",
    "\n",
    "\n",
    "lista = [0,1]\n",
    "\n",
    "lista * 2 "
   ]
  },
  {
   "cell_type": "code",
   "execution_count": 45,
   "metadata": {},
   "outputs": [
    {
     "data": {
      "text/plain": [
       "['java', 'pyhton', 'C', 'PHP']"
      ]
     },
     "execution_count": 45,
     "metadata": {},
     "output_type": "execute_result"
    }
   ],
   "source": [
    "lista = ['java', 'pyhton']\n",
    "\n",
    "lista.extend(['C', 'PHP'])\n",
    "\n",
    "lista"
   ]
  }
 ],
 "metadata": {
  "kernelspec": {
   "display_name": "Python 3",
   "language": "python",
   "name": "python3"
  },
  "language_info": {
   "codemirror_mode": {
    "name": "ipython",
    "version": 3
   },
   "file_extension": ".py",
   "mimetype": "text/x-python",
   "name": "python",
   "nbconvert_exporter": "python",
   "pygments_lexer": "ipython3",
   "version": "3.12.6"
  }
 },
 "nbformat": 4,
 "nbformat_minor": 2
}
