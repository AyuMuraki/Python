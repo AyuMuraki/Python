{
 "cells": [
  {
   "cell_type": "code",
   "execution_count": 2,
   "metadata": {},
   "outputs": [
    {
     "name": "stdout",
     "output_type": "stream",
     "text": [
      "Aprovado\n"
     ]
    }
   ],
   "source": [
    "#Se o aluno tiver uma nota mior ou igual a 5 e tiver\n",
    "#uma frequencia mior ou igual a 75% estará aprovado\n",
    "\n",
    "\n",
    "nota = 5\n",
    "frequencia = 95\n",
    "\n",
    "if nota >= 5 and frequencia >= 75:\n",
    "    print(\"Aprovado\")\n",
    "else:\n",
    "    print(\"Reprovado\")"
   ]
  },
  {
   "cell_type": "code",
   "execution_count": 6,
   "metadata": {},
   "outputs": [
    {
     "data": {
      "text/plain": [
       "True"
      ]
     },
     "execution_count": 6,
     "metadata": {},
     "output_type": "execute_result"
    }
   ],
   "source": [
    "#Tabela Verdade - operador AND\n",
    "#Retornará verdadeiro se todas as condições forem satisfeitas\n",
    "\n",
    "True and False #False\n",
    "False and True #False\n",
    "True and True #True\n",
    "\n",
    "#Operadores logico sempre fica entre dois valores boleanos"
   ]
  },
  {
   "cell_type": "code",
   "execution_count": 15,
   "metadata": {},
   "outputs": [
    {
     "name": "stdout",
     "output_type": "stream",
     "text": [
      "Não há previsão para entrega\n"
     ]
    }
   ],
   "source": [
    "mes = int(input(\"Digite o Mês:\"))\n",
    "dia = int(input(\"Digite o dia:\"))\n",
    "\n",
    "if mes  == 'janeiro' and dia <= 15:\n",
    "    print(\"A encomenda será entregue este mês\")\n",
    "else:\n",
    "    print(\"Não há previsão para entrega\")"
   ]
  },
  {
   "cell_type": "code",
   "execution_count": 17,
   "metadata": {},
   "outputs": [
    {
     "name": "stdout",
     "output_type": "stream",
     "text": [
      "Tem direito a premiação\n"
     ]
    }
   ],
   "source": [
    "#Se o funcionário tiver 3 anos de trabalho ou mais\n",
    "# OU estiver um bom desempenho terá direito á mais premiação.\n",
    "\n",
    "\n",
    "anos = 0\n",
    "desempenho = 'bom'\n",
    "\n",
    "if anos >= 3 or desempenho == 'bom':\n",
    "    print(\"Tem direito a premiação\")\n",
    "\n",
    "else:\n",
    "    print(\"Não tem direito a premiação.\")\n"
   ]
  },
  {
   "cell_type": "code",
   "execution_count": 25,
   "metadata": {},
   "outputs": [
    {
     "data": {
      "text/plain": [
       "True"
      ]
     },
     "execution_count": 25,
     "metadata": {},
     "output_type": "execute_result"
    }
   ],
   "source": [
    "# Tabela verdade - operador OR \n",
    "# Retornará verdadeiro se ao menos uma condição for satisfeita\n",
    "\n",
    "True or False  #True\n",
    "True or True   #True\n",
    "False or False #False\n",
    "False or False or False #False\n",
    "False or False or False or True #True"
   ]
  },
  {
   "cell_type": "code",
   "execution_count": 33,
   "metadata": {},
   "outputs": [
    {
     "name": "stdout",
     "output_type": "stream",
     "text": [
      "O produto está disponível\n"
     ]
    }
   ],
   "source": [
    "estoque_loja1 = 0\n",
    "estoque_loja2 = 1\n",
    "\n",
    "if estoque_loja1 or estoque_loja2 >0:\n",
    "    print(\"O produto está disponível\")\n",
    "else:\n",
    "    print(\"O Produto está indisponível\")"
   ]
  },
  {
   "cell_type": "code",
   "execution_count": 42,
   "metadata": {},
   "outputs": [
    {
     "name": "stdout",
     "output_type": "stream",
     "text": [
      "Acesso Liberado\n"
     ]
    }
   ],
   "source": [
    "#Retorne para o usuário digitar uma letra, caso a letra digitada\n",
    "# seja 'M' ou 'F' retorne 'Acesso Liberado' senão retorne \n",
    "#Acesso Negado.\n",
    "\n",
    "#letra = input(\"Digite a sigla do seu sexo:\")\n",
    "letra = 'M'\n",
    "\n",
    "if letra == 'M' or  letra == 'F':\n",
    "    print(\"Acesso Liberado\")\n",
    "else:\n",
    "    print(\"Acesso negado\")\n"
   ]
  },
  {
   "cell_type": "code",
   "execution_count": 48,
   "metadata": {},
   "outputs": [
    {
     "name": "stdout",
     "output_type": "stream",
     "text": [
      "REPROVADO.\n"
     ]
    }
   ],
   "source": [
    "# Operador AND também pode ser ultilizado para avaliarmos \n",
    "# intervalos de valores operador AND\n",
    "# preciso que as duas condições  sejam verdadeira para dar certo. \n",
    "\n",
    "nota = 2\n",
    "if nota >= 7:\n",
    "    print(\"APROVADO.\")\n",
    "elif nota >= 5 and nota < 7:\n",
    "    print(\"Recuperação.\")\n",
    "else:\n",
    "    print(\"REPROVADO.\")"
   ]
  },
  {
   "cell_type": "code",
   "execution_count": 11,
   "metadata": {},
   "outputs": [
    {
     "name": "stdout",
     "output_type": "stream",
     "text": [
      "Clássico\n"
     ]
    }
   ],
   "source": [
    "ano = int(input(\"Digite o ano:\"))\n",
    "\n",
    "if ano == 2024:\n",
    "    print(\"NOVO\")\n",
    "elif ano >= 2020 and  ano < 2024:\n",
    "    print(\"Seminovo.\")\n",
    "elif ano >= 2000 and ano < 2020:\n",
    "    print(\"Usado.\")\n",
    "elif ano < 2000:\n",
    "    print(\"Clássico\")\n"
   ]
  }
 ],
 "metadata": {
  "kernelspec": {
   "display_name": "Python 3",
   "language": "python",
   "name": "python3"
  },
  "language_info": {
   "codemirror_mode": {
    "name": "ipython",
    "version": 3
   },
   "file_extension": ".py",
   "mimetype": "text/x-python",
   "name": "python",
   "nbconvert_exporter": "python",
   "pygments_lexer": "ipython3",
   "version": "3.12.6"
  }
 },
 "nbformat": 4,
 "nbformat_minor": 2
}
