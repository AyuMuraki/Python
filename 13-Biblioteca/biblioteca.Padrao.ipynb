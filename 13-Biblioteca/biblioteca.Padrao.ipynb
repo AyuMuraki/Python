{
 "cells": [
  {
   "cell_type": "code",
   "execution_count": 1,
   "metadata": {},
   "outputs": [
    {
     "data": {
      "text/plain": [
       "3.0"
      ]
     },
     "execution_count": 1,
     "metadata": {},
     "output_type": "execute_result"
    }
   ],
   "source": [
    "#Função matemáticas básicas\n",
    "\n",
    "\n",
    "import math\n",
    "\n",
    "math.sqrt(9) "
   ]
  },
  {
   "cell_type": "code",
   "execution_count": 4,
   "metadata": {},
   "outputs": [
    {
     "ename": "NameError",
     "evalue": "name 'true' is not defined",
     "output_type": "error",
     "traceback": [
      "\u001b[1;31m---------------------------------------------------------------------------\u001b[0m",
      "\u001b[1;31mNameError\u001b[0m                                 Traceback (most recent call last)",
      "Cell \u001b[1;32mIn[4], line 7\u001b[0m\n\u001b[0;32m      3\u001b[0m \u001b[38;5;28;01mimport\u001b[39;00m \u001b[38;5;21;01mrandom\u001b[39;00m\n\u001b[0;32m      5\u001b[0m numeros \u001b[38;5;241m=\u001b[39m []\n\u001b[1;32m----> 7\u001b[0m \u001b[38;5;28;01mwhile\u001b[39;00m \u001b[43mtrue\u001b[49m:\n\u001b[0;32m     10\u001b[0m  \u001b[38;5;28;01mif\u001b[39;00m \u001b[38;5;28mlen\u001b[39m(numeros) \u001b[38;5;241m==\u001b[39m \u001b[38;5;241m6\u001b[39m:\n\u001b[0;32m     11\u001b[0m     \u001b[38;5;28;01mbreak\u001b[39;00m\n",
      "\u001b[1;31mNameError\u001b[0m: name 'true' is not defined"
     ]
    }
   ],
   "source": [
    "# Sorteat os números da mega-sena\n",
    "\n",
    "import random\n",
    "\n",
    "numeros = []\n",
    "\n",
    "while true:\n",
    "\n",
    "\n",
    " if len(numeros) == 6:\n",
    "    break\n",
    "\n",
    "aleatorio = random.randrange(1,61)\n",
    "numeros.append(aleatorio)\n",
    "\n",
    "print(numeros)\n"
   ]
  },
  {
   "cell_type": "code",
   "execution_count": 8,
   "metadata": {},
   "outputs": [],
   "source": [
    "import tkinter\n",
    "\n",
    "\n",
    "\n",
    "\n",
    "# gerar um aplicação\n",
    "app = tkinter.Tk()\n",
    "\n",
    "#Alterar a resolução da tela\n",
    "app.geometry('600x400')\n",
    "\n",
    "\n",
    "\n",
    "#Alterar titulo da aplicação\n",
    "\n",
    "app.title('Ayumi')\n",
    "\n",
    "caixa_texto = tkinter.Label(app, text ='Seja Bem-Vindo:')\n",
    "caixa_texto.grid(column=0, row =0)\n",
    "\n",
    "caixa_texto = tkinter.Label(app,  text ='Maria')\n",
    "caixa_texto.grid(column=1, row =0)\n",
    "\n",
    "caixa_texto = tkinter.Label(app,  text = 'Matrícula: xxxxxxxx')\n",
    "caixa_texto.grid(column=0, row =1)\n",
    "\n",
    "caixa_texto = tkinter.Label(app,  text = 'Curso: Python')\n",
    "caixa_texto.grid(column=1, row =1)\n",
    "\n",
    "\n",
    "\n",
    "\n",
    "\n",
    "\n",
    "\n",
    "#executar a aplicação ultima INSTRUÇÃO \n",
    "app.mainloop()"
   ]
  }
 ],
 "metadata": {
  "kernelspec": {
   "display_name": "Python 3",
   "language": "python",
   "name": "python3"
  },
  "language_info": {
   "codemirror_mode": {
    "name": "ipython",
    "version": 3
   },
   "file_extension": ".py",
   "mimetype": "text/x-python",
   "name": "python",
   "nbconvert_exporter": "python",
   "pygments_lexer": "ipython3",
   "version": "3.12.6"
  }
 },
 "nbformat": 4,
 "nbformat_minor": 2
}
